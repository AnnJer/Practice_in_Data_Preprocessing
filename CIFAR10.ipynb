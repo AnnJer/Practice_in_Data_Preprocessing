{
  "nbformat": 4,
  "nbformat_minor": 0,
  "metadata": {
    "colab": {
      "name": "CIFAR10.ipynb",
      "provenance": [],
      "include_colab_link": true
    },
    "kernelspec": {
      "name": "python3",
      "display_name": "Python 3"
    },
    "accelerator": "GPU"
  },
  "cells": [
    {
      "cell_type": "markdown",
      "metadata": {
        "id": "view-in-github",
        "colab_type": "text"
      },
      "source": [
        "<a href=\"https://colab.research.google.com/github/AnnJer/Practice_in_Data_Preprocessing/blob/master/CIFAR10.ipynb\" target=\"_parent\"><img src=\"https://colab.research.google.com/assets/colab-badge.svg\" alt=\"Open In Colab\"/></a>"
      ]
    },
    {
      "cell_type": "code",
      "metadata": {
        "id": "aVxi7ORfbRt2",
        "colab_type": "code",
        "outputId": "12fcd60b-732f-4b7f-a293-e9e9bc39ec53",
        "colab": {
          "base_uri": "https://localhost:8080/",
          "height": 34
        }
      },
      "source": [
        "from keras import backend as K\n",
        "import keras, tensorflow\n",
        "from keras.models import Sequential\n",
        "from keras.layers.convolutional import Conv2D, Convolution2D, MaxPooling2D\n",
        "from keras.layers.core import Activation, Flatten, Dense, Dropout\n",
        "from keras.datasets import cifar10\n",
        "from keras.utils import np_utils\n",
        "from keras.optimizers import SGD, RMSprop, Adam\n",
        "import numpy as np\n",
        "import matplotlib.pyplot as plt"
      ],
      "execution_count": 0,
      "outputs": [
        {
          "output_type": "stream",
          "text": [
            "Using TensorFlow backend.\n"
          ],
          "name": "stderr"
        }
      ]
    },
    {
      "cell_type": "code",
      "metadata": {
        "id": "nKfXcqqO1fma",
        "colab_type": "code",
        "colab": {}
      },
      "source": [
        "class SimpleModel:\n",
        "  @staticmethod\n",
        "  def build(input_shape, classes):\n",
        "    model = Sequential()\n",
        "    model.add(Conv2D(32, (3,3), padding = 'same',\n",
        "                           input_shape=input_shape))\n",
        "    model.add(Activation('relu'))\n",
        "    model.add(MaxPooling2D(pool_size = (2, 2), dim_ordering=\"th\"))\n",
        "    model.add(Dropout(0.25))\n",
        "    model.add(Flatten())\n",
        "    model.add(Dense(512))\n",
        "    model.add(Activation('relu'))\n",
        "    model.add(Dropout(0.5))\n",
        "    model.add(Dense (NB_CLASSES))\n",
        "    model.add(Activation('softmax'))\n",
        "    return model\n",
        " "
      ],
      "execution_count": 0,
      "outputs": []
    },
    {
      "cell_type": "code",
      "metadata": {
        "id": "q7WdEfybCNDj",
        "colab_type": "code",
        "colab": {}
      },
      "source": [
        "EPOCH = 20\n",
        "BATCH_SIZE = 128\n",
        "VERBOSE = 1\n",
        "OPTIMIZER = RMSprop()\n",
        "VALIDATION_SPLIT = 0.2\n",
        "NB_CLASSES = 10\n",
        "INPUT_SHAPE = (32, 32, 3)\n"
      ],
      "execution_count": 0,
      "outputs": []
    },
    {
      "cell_type": "code",
      "metadata": {
        "id": "3NgJSaW8KUFJ",
        "colab_type": "code",
        "outputId": "95a51e2d-9a69-487b-c162-63d08519a5b4",
        "colab": {
          "base_uri": "https://localhost:8080/",
          "height": 52
        }
      },
      "source": [
        "(X_train, y_train), (X_test, y_test) = cifar10.load_data()\n",
        "# K.set_image_dim_ordering('th')"
      ],
      "execution_count": 0,
      "outputs": [
        {
          "output_type": "stream",
          "text": [
            "Downloading data from https://www.cs.toronto.edu/~kriz/cifar-10-python.tar.gz\n",
            "170500096/170498071 [==============================] - 24s 0us/step\n"
          ],
          "name": "stdout"
        }
      ]
    },
    {
      "cell_type": "code",
      "metadata": {
        "id": "qco9-UOjKmf9",
        "colab_type": "code",
        "outputId": "b442add0-8558-42d4-ea34-3b08cbe29b00",
        "colab": {
          "base_uri": "https://localhost:8080/",
          "height": 34
        }
      },
      "source": [
        "X_train = X_train.astype('float32')/255\n",
        "X_test = X_test.astype('float32')/255\n",
        "\n",
        "y_train = np_utils.to_categorical(y_train, NB_CLASSES)\n",
        "y_test = np_utils.to_categorical(y_test, NB_CLASSES)\n",
        "X_train.shape\n",
        "# X_train = tensorflow.reshape(X_train, [32, 32, 3])"
      ],
      "execution_count": 0,
      "outputs": [
        {
          "output_type": "execute_result",
          "data": {
            "text/plain": [
              "(50000, 32, 32, 3)"
            ]
          },
          "metadata": {
            "tags": []
          },
          "execution_count": 5
        }
      ]
    },
    {
      "cell_type": "code",
      "metadata": {
        "id": "8LrH_D3rL1S_",
        "colab_type": "code",
        "outputId": "2468e7a3-bbf3-400f-f9d7-d17fd5f854b2",
        "colab": {
          "base_uri": "https://localhost:8080/",
          "height": 801
        }
      },
      "source": [
        "model = SimpleModel.build(input_shape = X_train.shape[1:], classes = NB_CLASSES)\n",
        "model.compile(loss = 'categorical_crossentropy', optimizer = OPTIMIZER, \n",
        "             metrics = ['accuracy'])\n",
        "model.fit(X_train, y_train, batch_size = BATCH_SIZE, \n",
        "                 epochs = EPOCH, verbose = VERBOSE,\n",
        "                  validation_split = VALIDATION_SPLIT)\n",
        "score = model.evaluate(X_test, y_test, verbose = VERBOSE)\n",
        "model.save_weights(\"model.h5\")"
      ],
      "execution_count": 0,
      "outputs": [
        {
          "output_type": "stream",
          "text": [
            "/usr/local/lib/python3.6/dist-packages/ipykernel_launcher.py:8: UserWarning: Update your `MaxPooling2D` call to the Keras 2 API: `MaxPooling2D(pool_size=(2, 2), data_format=\"channels_first\")`\n",
            "  \n"
          ],
          "name": "stderr"
        },
        {
          "output_type": "stream",
          "text": [
            "Train on 40000 samples, validate on 10000 samples\n",
            "Epoch 1/20\n",
            "40000/40000 [==============================] - 9s 214us/step - loss: 1.8170 - acc: 0.3653 - val_loss: 1.5407 - val_acc: 0.4585\n",
            "Epoch 2/20\n",
            "40000/40000 [==============================] - 5s 135us/step - loss: 1.4303 - acc: 0.4896 - val_loss: 1.2851 - val_acc: 0.5497\n",
            "Epoch 3/20\n",
            "40000/40000 [==============================] - 6s 138us/step - loss: 1.3035 - acc: 0.5381 - val_loss: 1.2261 - val_acc: 0.5690\n",
            "Epoch 4/20\n",
            "40000/40000 [==============================] - 5s 134us/step - loss: 1.2193 - acc: 0.5690 - val_loss: 1.1558 - val_acc: 0.5988\n",
            "Epoch 5/20\n",
            "40000/40000 [==============================] - 5s 134us/step - loss: 1.1506 - acc: 0.5945 - val_loss: 1.1801 - val_acc: 0.5944\n",
            "Epoch 6/20\n",
            "40000/40000 [==============================] - 5s 134us/step - loss: 1.0946 - acc: 0.6143 - val_loss: 1.2285 - val_acc: 0.5806\n",
            "Epoch 7/20\n",
            "40000/40000 [==============================] - 5s 134us/step - loss: 1.0535 - acc: 0.6311 - val_loss: 1.1210 - val_acc: 0.6130\n",
            "Epoch 8/20\n",
            "40000/40000 [==============================] - 5s 134us/step - loss: 1.0072 - acc: 0.6467 - val_loss: 1.1598 - val_acc: 0.5952\n",
            "Epoch 9/20\n",
            "40000/40000 [==============================] - 5s 133us/step - loss: 0.9719 - acc: 0.6581 - val_loss: 1.0408 - val_acc: 0.6425\n",
            "Epoch 10/20\n",
            "40000/40000 [==============================] - 5s 133us/step - loss: 0.9441 - acc: 0.6686 - val_loss: 1.0739 - val_acc: 0.6304\n",
            "Epoch 11/20\n",
            "40000/40000 [==============================] - 5s 134us/step - loss: 0.9034 - acc: 0.6833 - val_loss: 1.0931 - val_acc: 0.6282\n",
            "Epoch 12/20\n",
            "40000/40000 [==============================] - 5s 134us/step - loss: 0.8813 - acc: 0.6919 - val_loss: 1.0907 - val_acc: 0.6268\n",
            "Epoch 13/20\n",
            "40000/40000 [==============================] - 5s 134us/step - loss: 0.8578 - acc: 0.7011 - val_loss: 1.0504 - val_acc: 0.6534\n",
            "Epoch 14/20\n",
            "40000/40000 [==============================] - 5s 134us/step - loss: 0.8321 - acc: 0.7109 - val_loss: 1.0289 - val_acc: 0.6556\n",
            "Epoch 15/20\n",
            "40000/40000 [==============================] - 5s 134us/step - loss: 0.8103 - acc: 0.7191 - val_loss: 1.0519 - val_acc: 0.6505\n",
            "Epoch 16/20\n",
            "40000/40000 [==============================] - 5s 133us/step - loss: 0.7907 - acc: 0.7256 - val_loss: 1.0530 - val_acc: 0.6571\n",
            "Epoch 17/20\n",
            "40000/40000 [==============================] - 5s 135us/step - loss: 0.7759 - acc: 0.7309 - val_loss: 1.0900 - val_acc: 0.6491\n",
            "Epoch 18/20\n",
            "40000/40000 [==============================] - 5s 134us/step - loss: 0.7572 - acc: 0.7369 - val_loss: 1.0923 - val_acc: 0.6412\n",
            "Epoch 19/20\n",
            "40000/40000 [==============================] - 5s 134us/step - loss: 0.7348 - acc: 0.7426 - val_loss: 1.0767 - val_acc: 0.6481\n",
            "Epoch 20/20\n",
            "40000/40000 [==============================] - 5s 134us/step - loss: 0.7215 - acc: 0.7484 - val_loss: 1.1233 - val_acc: 0.6396\n",
            "10000/10000 [==============================] - 1s 97us/step\n"
          ],
          "name": "stdout"
        }
      ]
    },
    {
      "cell_type": "code",
      "metadata": {
        "id": "FEHl1v7YcplK",
        "colab_type": "code",
        "colab": {}
      },
      "source": [
        "class SophisticatedModel:\n",
        "  @staticmethod\n",
        "  def build(input_shape, classes):\n",
        "    model = Sequential()\n",
        "    model.add(Conv2D(32, (3,3), padding = 'same', input_shape = input_shape))\n",
        "    model.add(Activation('relu'))\n",
        "    model.add(Conv2D(32, (3,3), padding = 'same'))\n",
        "    model.add(Activation('relu'))\n",
        "    model.add(MaxPooling2D(pool_size = (2, 2)))\n",
        "    model.add(Dropout(0.25))\n",
        "    model.add(Conv2D(64, (3,3), padding = 'same'))\n",
        "    model.add(Activation('relu'))\n",
        "    model.add(Conv2D(64, 3, 3))\n",
        "    model.add(Activation('relu'))\n",
        "    model.add(MaxPooling2D(pool_size = (2, 2)))\n",
        "    model.add(Dropout(0.25))\n",
        "    model.add(Flatten())\n",
        "    model.add(Dense(512))\n",
        "    model.add(Activation('relu'))\n",
        "    model.add(Dropout(0.5))\n",
        "    model.add(Dense (NB_CLASSES))\n",
        "    model.add(Activation('softmax'))\n",
        "    return model"
      ],
      "execution_count": 0,
      "outputs": []
    },
    {
      "cell_type": "code",
      "metadata": {
        "id": "Xp75AFuBM9bk",
        "colab_type": "code",
        "outputId": "bbb872ec-2c31-4244-ce39-d8f6156e8fdf",
        "colab": {
          "base_uri": "https://localhost:8080/",
          "height": 781
        }
      },
      "source": [
        "model1 = SophisticatedModel.build(input_shape = X_train.shape[1:], classes = NB_CLASSES)\n",
        "model1.compile(loss = 'categorical_crossentropy', optimizer = OPTIMIZER, \n",
        "             metrics = ['accuracy'])\n",
        "model1.fit(X_train, y_train, batch_size = BATCH_SIZE, \n",
        "                 epochs = EPOCH, verbose = VERBOSE,\n",
        "                  validation_split = VALIDATION_SPLIT)\n",
        "score = model1.evaluate(X_test, y_test, verbose = VERBOSE)\n",
        "model1.save_weights(\"model1.h5\")"
      ],
      "execution_count": 0,
      "outputs": [
        {
          "output_type": "stream",
          "text": [
            "/usr/local/lib/python3.6/dist-packages/ipykernel_launcher.py:13: UserWarning: Update your `Conv2D` call to the Keras 2 API: `Conv2D(64, (3, 3))`\n",
            "  del sys.path[0]\n"
          ],
          "name": "stderr"
        },
        {
          "output_type": "stream",
          "text": [
            "Train on 40000 samples, validate on 10000 samples\n",
            "Epoch 1/20\n",
            "40000/40000 [==============================] - 10s 256us/step - loss: 1.7806 - acc: 0.3526 - val_loss: 1.4381 - val_acc: 0.4941\n",
            "Epoch 2/20\n",
            "40000/40000 [==============================] - 10s 242us/step - loss: 1.3408 - acc: 0.5226 - val_loss: 1.1382 - val_acc: 0.6001\n",
            "Epoch 3/20\n",
            "40000/40000 [==============================] - 10s 240us/step - loss: 1.1253 - acc: 0.6015 - val_loss: 0.9823 - val_acc: 0.6512\n",
            "Epoch 4/20\n",
            "40000/40000 [==============================] - 10s 241us/step - loss: 0.9885 - acc: 0.6522 - val_loss: 0.9539 - val_acc: 0.6599\n",
            "Epoch 5/20\n",
            "40000/40000 [==============================] - 10s 240us/step - loss: 0.8872 - acc: 0.6883 - val_loss: 0.9867 - val_acc: 0.6639\n",
            "Epoch 6/20\n",
            "40000/40000 [==============================] - 10s 240us/step - loss: 0.8126 - acc: 0.7161 - val_loss: 0.9242 - val_acc: 0.6776\n",
            "Epoch 7/20\n",
            "40000/40000 [==============================] - 10s 241us/step - loss: 0.7620 - acc: 0.7331 - val_loss: 0.7345 - val_acc: 0.7479\n",
            "Epoch 8/20\n",
            "40000/40000 [==============================] - 10s 241us/step - loss: 0.7179 - acc: 0.7494 - val_loss: 0.7402 - val_acc: 0.7462\n",
            "Epoch 9/20\n",
            "40000/40000 [==============================] - 10s 241us/step - loss: 0.6759 - acc: 0.7661 - val_loss: 0.8766 - val_acc: 0.7221\n",
            "Epoch 10/20\n",
            "40000/40000 [==============================] - 10s 241us/step - loss: 0.6487 - acc: 0.7781 - val_loss: 0.7175 - val_acc: 0.7587\n",
            "Epoch 11/20\n",
            "40000/40000 [==============================] - 10s 242us/step - loss: 0.6293 - acc: 0.7833 - val_loss: 0.7023 - val_acc: 0.7600\n",
            "Epoch 12/20\n",
            "40000/40000 [==============================] - 10s 243us/step - loss: 0.6045 - acc: 0.7922 - val_loss: 0.7038 - val_acc: 0.7633\n",
            "Epoch 13/20\n",
            "40000/40000 [==============================] - 10s 242us/step - loss: 0.5898 - acc: 0.7985 - val_loss: 0.7434 - val_acc: 0.7463\n",
            "Epoch 14/20\n",
            "40000/40000 [==============================] - 10s 241us/step - loss: 0.5836 - acc: 0.8034 - val_loss: 0.7529 - val_acc: 0.7542\n",
            "Epoch 15/20\n",
            "40000/40000 [==============================] - 10s 239us/step - loss: 0.5758 - acc: 0.8071 - val_loss: 0.7454 - val_acc: 0.7727\n",
            "Epoch 16/20\n",
            "40000/40000 [==============================] - 10s 241us/step - loss: 0.5719 - acc: 0.8064 - val_loss: 0.7097 - val_acc: 0.7799\n",
            "Epoch 17/20\n",
            "40000/40000 [==============================] - 10s 241us/step - loss: 0.5639 - acc: 0.8096 - val_loss: 0.7849 - val_acc: 0.7623\n",
            "Epoch 18/20\n",
            "40000/40000 [==============================] - 10s 240us/step - loss: 0.5641 - acc: 0.8134 - val_loss: 0.7631 - val_acc: 0.7727\n",
            "Epoch 19/20\n",
            "40000/40000 [==============================] - 10s 241us/step - loss: 0.5555 - acc: 0.8146 - val_loss: 0.7370 - val_acc: 0.7590\n",
            "Epoch 20/20\n",
            "40000/40000 [==============================] - 10s 242us/step - loss: 0.5589 - acc: 0.8150 - val_loss: 0.7306 - val_acc: 0.7750\n",
            "10000/10000 [==============================] - 1s 136us/step\n"
          ],
          "name": "stdout"
        }
      ]
    },
    {
      "cell_type": "code",
      "metadata": {
        "id": "1RqAxZXyvuy6",
        "colab_type": "code",
        "colab": {}
      },
      "source": [
        ""
      ],
      "execution_count": 0,
      "outputs": []
    }
  ]
}