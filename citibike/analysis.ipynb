{
 "cells": [
  {
   "cell_type": "code",
   "execution_count": 1,
   "metadata": {},
   "outputs": [],
   "source": [
    "NUM_CLUSTERS = 5\n",
    "BATCH_SIZE = 5\n",
    "NUM_STEPS = 50\n",
    "\n",
    "LON_ANI_CENTER = [-87.73, -87.60]\n",
    "LAT_ANI_CENTER = [41.85, 42.00]"
   ]
  },
  {
   "cell_type": "code",
   "execution_count": 5,
   "metadata": {},
   "outputs": [],
   "source": [
    "import pandas as pd\n",
    "import matplotlib.pyplot as plt\n",
    "\n",
    "import seaborn as sns\n",
    "from matplotlib import animation\n",
    "from matplotlib.patches import Ellipse\n",
    "from IPython.display import HTML\n",
    "plt.rcParams.update({'figure.max_open_warning': 0})\n",
    "\n",
    "from scipy.stats import mode\n",
    "import scipy.stats as sts\n",
    "\n",
    "import numpy as np\n",
    "import tensorflow as tf\n",
    "from geopy.geocoders import Nominatim\n",
    "\n",
    "import io\n",
    "import base64\n",
    "from dateutil import parser"
   ]
  },
  {
   "cell_type": "code",
   "execution_count": 8,
   "metadata": {},
   "outputs": [],
   "source": [
    "# Импортирование данных\n",
    "\n",
    "data = pd.read_csv('/home/ann/python/citibike/citibike-tripdata.csv', sep=',')\n",
    "\n",
    "columns = data.columns\n",
    "types = list(data.dtypes)\n",
    "\n",
    "data16 = pd.read_csv('/home/ann/python/citibike/JC-20161-citibike-tripdata.csv', sep = ',', names=columns)\n",
    "data17 = pd.read_csv('/home/ann/python/citibike/JC-201701-citibike-tripdata.csv', sep = ',', names=columns)\n",
    "data18 = pd.read_csv('/home/ann/python/citibike/JC-201801-citibike-tripdata.csv', sep = ',', names=columns)"
   ]
  },
  {
   "cell_type": "code",
   "execution_count": 9,
   "metadata": {},
   "outputs": [],
   "source": [
    "# Преобразование к одному типу и удаление первой строки\n",
    "\n",
    "data16.drop(data16.index[0], inplace=True)\n",
    "data16 = data16.astype(dict(zip(columns, types)), errors='raise')\n",
    "\n",
    "data17.drop(data17.index[0], inplace=True)\n",
    "data17 = data17.astype(dict(zip(columns, types)), errors='raise')\n",
    "\n",
    "data18.drop(data18.index[0], inplace=True)\n",
    "data18 = data18.astype(dict(zip(columns, types)), errors='raise')"
   ]
  },
  {
   "cell_type": "code",
   "execution_count": 10,
   "metadata": {},
   "outputs": [
    {
     "name": "stdout",
     "output_type": "stream",
     "text": [
      "56664\n"
     ]
    },
    {
     "data": {
      "text/plain": [
       "(56664, 15)"
      ]
     },
     "execution_count": 10,
     "metadata": {},
     "output_type": "execute_result"
    }
   ],
   "source": [
    "# Объединение в единый датасет\n",
    "\n",
    "dataset= pd.concat([data,  data16, data17, data18])\n",
    "print(data.shape[0]+ data16.shape[0]+ data17.shape[0]+ data18.shape[0])\n",
    "dataset.shape"
   ]
  },
  {
   "cell_type": "code",
   "execution_count": 11,
   "metadata": {},
   "outputs": [
    {
     "name": "stdout",
     "output_type": "stream",
     "text": [
      "max latitude 40.8013434\n",
      "min latitude 40.69263996618329\n",
      "max longitude -73.97114574390001\n",
      "min longitude -74.0969366\n"
     ]
    }
   ],
   "source": [
    "# соединим точки посаки и высадки (latitude - широта, longitude - долгота)\n",
    "\n",
    "latitude = list(dataset['start station latitude'])+list(dataset['end station latitude'])\n",
    "print('max latitude', str(max(latitude)))\n",
    "print('min latitude', str(min(latitude)))\n",
    "\n",
    "longitude = list(dataset['start station longitude'])+list(dataset['end station longitude'])\n",
    "print('max longitude', str(max(longitude)))\n",
    "print('min longitude', str(min(longitude)))\n",
    "\n",
    "\n",
    "loc_df = pd.DataFrame()\n",
    "loc_df['longitude'] = longitude\n",
    "loc_df['latitude'] = latitude\n"
   ]
  },
  {
   "cell_type": "code",
   "execution_count": 14,
   "metadata": {},
   "outputs": [
    {
     "data": {
      "image/png": "[encoded data removed]",
      "text/plain": [
       "<Figure size 432x288 with 1 Axes>"
      ]
     },
     "metadata": {},
     "output_type": "display_data"
    },
    {
     "data": {
      "image/png": "[encoded data removed]",
      "text/plain": [
       "<Figure size 432x288 with 1 Axes>"
      ]
     },
     "metadata": {},
     "output_type": "display_data"
    }
   ],
   "source": [
    "# Оценим выбросы\n",
    "# sns.boxplot(loc_df.longitude)\n",
    "sns.boxplot(loc_df.latitude)\n",
    "loc_df.plot(kind=\"scatter\", x=\"longitude\", y=\"latitude\", alpha=0.4)\n",
    "plt.show()"
   ]
  },
  {
   "cell_type": "code",
   "execution_count": 16,
   "metadata": {},
   "outputs": [
    {
     "ename": "TypeError",
     "evalue": "boxplot() got an unexpected keyword argument 'color'",
     "output_type": "error",
     "traceback": [
      "\u001b[0;31m---------------------------------------------------------------------------\u001b[0m",
      "\u001b[0;31mTypeError\u001b[0m                                 Traceback (most recent call last)",
      "\u001b[0;32m<ipython-input-16-69f590dff0ac>\u001b[0m in \u001b[0;36m<module>\u001b[0;34m()\u001b[0m\n\u001b[1;32m      1\u001b[0m \u001b[0mg\u001b[0m \u001b[0;34m=\u001b[0m \u001b[0msns\u001b[0m\u001b[0;34m.\u001b[0m\u001b[0mFacetGrid\u001b[0m\u001b[0;34m(\u001b[0m\u001b[0mloc_df\u001b[0m\u001b[0;34m)\u001b[0m\u001b[0;34m\u001b[0m\u001b[0m\n\u001b[0;32m----> 2\u001b[0;31m \u001b[0mg\u001b[0m\u001b[0;34m.\u001b[0m\u001b[0mmap\u001b[0m\u001b[0;34m(\u001b[0m\u001b[0mplt\u001b[0m\u001b[0;34m.\u001b[0m\u001b[0mboxplot\u001b[0m\u001b[0;34m)\u001b[0m\u001b[0;34m;\u001b[0m\u001b[0;34m\u001b[0m\u001b[0m\n\u001b[0m",
      "\u001b[0;32m~/anaconda3/lib/python3.6/site-packages/seaborn/axisgrid.py\u001b[0m in \u001b[0;36mmap\u001b[0;34m(self, func, *args, **kwargs)\u001b[0m\n\u001b[1;32m    741\u001b[0m \u001b[0;34m\u001b[0m\u001b[0m\n\u001b[1;32m    742\u001b[0m             \u001b[0;31m# Draw the plot\u001b[0m\u001b[0;34m\u001b[0m\u001b[0;34m\u001b[0m\u001b[0m\n\u001b[0;32m--> 743\u001b[0;31m             \u001b[0mself\u001b[0m\u001b[0;34m.\u001b[0m\u001b[0m_facet_plot\u001b[0m\u001b[0;34m(\u001b[0m\u001b[0mfunc\u001b[0m\u001b[0;34m,\u001b[0m \u001b[0max\u001b[0m\u001b[0;34m,\u001b[0m \u001b[0mplot_args\u001b[0m\u001b[0;34m,\u001b[0m \u001b[0mkwargs\u001b[0m\u001b[0;34m)\u001b[0m\u001b[0;34m\u001b[0m\u001b[0m\n\u001b[0m\u001b[1;32m    744\u001b[0m \u001b[0;34m\u001b[0m\u001b[0m\n\u001b[1;32m    745\u001b[0m         \u001b[0;31m# Finalize the annotations and layout\u001b[0m\u001b[0;34m\u001b[0m\u001b[0;34m\u001b[0m\u001b[0m\n",
      "\u001b[0;32m~/anaconda3/lib/python3.6/site-packages/seaborn/axisgrid.py\u001b[0m in \u001b[0;36m_facet_plot\u001b[0;34m(self, func, ax, plot_args, plot_kwargs)\u001b[0m\n\u001b[1;32m    825\u001b[0m \u001b[0;34m\u001b[0m\u001b[0m\n\u001b[1;32m    826\u001b[0m         \u001b[0;31m# Draw the plot\u001b[0m\u001b[0;34m\u001b[0m\u001b[0;34m\u001b[0m\u001b[0m\n\u001b[0;32m--> 827\u001b[0;31m         \u001b[0mfunc\u001b[0m\u001b[0;34m(\u001b[0m\u001b[0;34m*\u001b[0m\u001b[0mplot_args\u001b[0m\u001b[0;34m,\u001b[0m \u001b[0;34m**\u001b[0m\u001b[0mplot_kwargs\u001b[0m\u001b[0;34m)\u001b[0m\u001b[0;34m\u001b[0m\u001b[0m\n\u001b[0m\u001b[1;32m    828\u001b[0m \u001b[0;34m\u001b[0m\u001b[0m\n\u001b[1;32m    829\u001b[0m         \u001b[0;31m# Sort out the supporting information\u001b[0m\u001b[0;34m\u001b[0m\u001b[0;34m\u001b[0m\u001b[0m\n",
      "\u001b[0;31mTypeError\u001b[0m: boxplot() got an unexpected keyword argument 'color'"
     ]
    },
    {
     "data": {
      "image/png": "[encoded data removed]",
      "text/plain": [
       "<Figure size 216x216 with 1 Axes>"
      ]
     },
     "metadata": {},
     "output_type": "display_data"
    }
   ],
   "source": [
    "g = sns.FacetGrid(loc_df)\n",
    "g.map(plt.boxplot);"
   ]
  },
  {
   "cell_type": "code",
   "execution_count": null,
   "metadata": {},
   "outputs": [],
   "source": []
  }
 ],
 "metadata": {
  "kernelspec": {
   "display_name": "Python 3",
   "language": "python",
   "name": "python3"
  },
  "language_info": {
   "codemirror_mode": {
    "name": "ipython",
    "version": 3
   },
   "file_extension": ".py",
   "mimetype": "text/x-python",
   "name": "python",
   "nbconvert_exporter": "python",
   "pygments_lexer": "ipython3",
   "version": "3.6.5"
  }
 },
 "nbformat": 4,
 "nbformat_minor": 2
}
