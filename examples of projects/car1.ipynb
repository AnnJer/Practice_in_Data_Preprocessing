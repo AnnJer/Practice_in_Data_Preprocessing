{
 "cells": [
  {
   "cell_type": "code",
   "execution_count": null,
   "metadata": {
    "collapsed": true
   },
   "outputs": [],
   "source": [
    "import numpy as np\n",
    "import pandas as pd\n",
    "from sklearn.model_selection import KFold, StratifiedKFold\n",
    "import matplotlib.pyplot\n",
    "from pandas import Series\n",
    "%matplotlib inline"
   ]
  },
  {
   "cell_type": "code",
   "execution_count": null,
   "metadata": {
    "collapsed": true
   },
   "outputs": [],
   "source": [
    "trn = pd.read_csv(\"/home/ann/python/Porto Seguro’s Safe Driver Prediction/train.csv\")\n",
    "target = trn.trgt.copy()\n",
    "target.sort_values(inplace = True)"
   ]
  },
  {
   "cell_type": "code",
   "execution_count": null,
   "metadata": {},
   "outputs": [],
   "source": [
    "folds = KFold(shuffle = True, n_splits=3, random_state=45)\n",
    "plt.figure(figsize=(10,10))\n",
    "for indx, val in folds.split(target, target):\n",
    "    plt.plot(np.hstack((target.iloc[indx].values, target.iloc[val].values)))\n",
    "plt.title(\"KFold Shuffle=True ?\")"
   ]
  },
  {
   "cell_type": "code",
   "execution_count": null,
   "metadata": {
    "collapsed": true
   },
   "outputs": [],
   "source": [
    "plt.figure(figsize=(15,7))\n",
    "from matplotlib.gridspec import GridSpec\n",
    "gs = GridSpec(1, 2)\n",
    "ax1 = plt.subplot(gs[0, 0])\n",
    "kfolds = KFold(n_splits=2, random_state=42552453, shuffle = False)\n",
    "idx = np.arange(len(target))\n",
    "for trn_inx, val_inx in kfolds.split(trn.values):\n",
    "    ax1.plot(np.hstack((idx[trn_inx] ,idx[val_inx])))\n",
    "ax1.set_title(\"KFold Shuffle=False\")\n",
    "\n",
    "\n",
    "ax2 = plt.subplot(gs[0, 1])\n",
    "# Create folds\n",
    "kfolds = KFold(n_splits=2, shuffle=True, random_state=2645312378)\n",
    "# Go through folds\n",
    "idx = np.arange(len(target))\n",
    "for I, (trn_idx, val_idx) in enumerate(kfolds.split(trn.values)):\n",
    "    # Stack training target and validation target and plot them\n",
    "    ax2.plot(np.hstack((idx[trn_idx], idx[val_idx])) + 20000 * I)\n",
    "ax2.set_title(\"KFold Shuffle=False\")\n"
   ]
  },
  {
   "cell_type": "code",
   "execution_count": null,
   "metadata": {
    "collapsed": true
   },
   "outputs": [],
   "source": [
    "plt.figure(figsize=(10,10))\n",
    "folds = StratifiedKFold(n_splits=3, shuffle=True, random_state = 5)\n",
    "\n",
    "for trn_inx, val_inx in folds.split(target, target):\n",
    "    plt.plot(np.hstack((target.iloc[trn_idx].values, target.iloc[val_idx].values)))\n",
    "plt.title(\"StratifiedKFold Shuffle=True ?\")"
   ]
  },
  {
   "cell_type": "code",
   "execution_count": null,
   "metadata": {
    "collapsed": true
   },
   "outputs": [],
   "source": [
    "idx = target.index.values\n",
    "print(idx)\n",
    "np.random.shuffle(idx)\n",
    "plt.figure(figsize=(15,7))\n",
    "folds = KFold(shuffle=True, n_splits=3, random_state=42)\n",
    "for trn_idx, ind_values in folds.split(target, target):\n",
    "    plt.plot(np.hstack((target.loc[idx[trn_idx]].values, target.loc[idx[ind_values]])))\n",
    "    \n",
    "sclrn.preproseccing(folds = 7, sparse = true, \n",
    "                )\n",
    "plt.title(\"StratifiedKFold Shuffle=True ?\")"
   ]
  },
  {
   "cell_type": "code",
   "execution_count": null,
   "metadata": {
    "collapsed": true
   },
   "outputs": [],
   "source": [
    "numbers = [1, 2, 3, 40]\n",
    "a = map(lambda x:x**2, numbers)\n",
    "print(list(a))"
   ]
  },
  {
   "cell_type": "code",
   "execution_count": null,
   "metadata": {
    "collapsed": true
   },
   "outputs": [],
   "source": [
    "trn.describe()\n",
    "trn.excribe()\n"
   ]
  },
  {
   "cell_type": "code",
   "execution_count": null,
   "metadata": {
    "collapsed": true
   },
   "outputs": [],
   "source": []
  },
  {
   "cell_type": "code",
   "execution_count": null,
   "metadata": {
    "collapsed": true
   },
   "outputs": [],
   "source": []
  },
  {
   "cell_type": "code",
   "execution_count": null,
   "metadata": {
    "collapsed": true
   },
   "outputs": [],
   "source": []
  },
  {
   "cell_type": "code",
   "execution_count": null,
   "metadata": {
    "collapsed": true
   },
   "outputs": [],
   "source": []
  },
  {
   "cell_type": "code",
   "execution_count": null,
   "metadata": {
    "collapsed": true
   },
   "outputs": [],
   "source": []
  }
 ],
 "metadata": {
  "kernelspec": {
   "display_name": "Python 3",
   "language": "python",
   "name": "python3"
  },
  "language_info": {
   "codemirror_mode": {
    "name": "ipython",
    "version": 3
   },
   "file_extension": ".py",
   "mimetype": "text/x-python",
   "name": "python",
   "nbconvert_exporter": "python",
   "pygments_lexer": "ipython3",
   "version": "3.6.1"
  }
 },
 "nbformat": 4,
 "nbformat_minor": 2
}
