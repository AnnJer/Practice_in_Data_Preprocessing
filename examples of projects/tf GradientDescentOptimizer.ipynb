{
 "cells": [
  {
   "cell_type": "code",
   "execution_count": 11,
   "metadata": {},
   "outputs": [],
   "source": [
    "import tensorflow as tf\n",
    "import numpy as np\n",
    "import matplotlib.pyplot as plt\n",
    "%matplotlib inline"
   ]
  },
  {
   "cell_type": "code",
   "execution_count": 12,
   "metadata": {},
   "outputs": [],
   "source": [
    "samples = 50\n",
    "packetSize= 5\n",
    "\n",
    "def f(x):return -0.5*x+4\n",
    "    \n",
    "x_0 = -2.0\n",
    "x_1 = 2.0\n",
    "sigma = 0.5"
   ]
  },
  {
   "cell_type": "code",
   "execution_count": 13,
   "metadata": {},
   "outputs": [],
   "source": [
    "np.random.seed(0)\n",
    "               \n",
    "data_x = np.arange(x_0, x_1, (x_1-x_0)/samples)\n",
    "np.random.shuffle(data_x)\n",
    "\n",
    "data_y = list(map(f, data_x)) + np.random.normal(0,sigma,samples)"
   ]
  },
  {
   "cell_type": "code",
   "execution_count": 14,
   "metadata": {},
   "outputs": [
    {
     "name": "stdout",
     "output_type": "stream",
     "text": [
      "0.240000000000002,-1.1199999999999992,-1.1999999999999993,1.280000000000003,-1.8399999999999999\n",
      "3.6806069133240307,4.146401733256503,4.392127649207482,3.097743903134284,5.3265506359191255\n"
     ]
    }
   ],
   "source": [
    "print(','.join(list(map(str, data_x[:packetSize]))))\n",
    "print(','.join(list(map(str, data_y[:packetSize]))))"
   ]
  },
  {
   "cell_type": "code",
   "execution_count": 26,
   "metadata": {},
   "outputs": [],
   "source": [
    "tf_data_x = tf.placeholder(tf.float32, shape = (packetSize, ))\n",
    "tf_data_y = tf.placeholder(tf.float32, shape = (packetSize, ))"
   ]
  },
  {
   "cell_type": "code",
   "execution_count": 27,
   "metadata": {},
   "outputs": [],
   "source": [
    "\n",
    "weight = tf.Variable(initial_value=0.1, dtype=tf.float32, name=\"a\")\n",
    "bias = tf.Variable(initial_value=0.0, dtype=tf.float32, name=\"b\")\n",
    "model = tf.add(tf.multiply(tf_data_x, weight), bias)"
   ]
  },
  {
   "cell_type": "code",
   "execution_count": 28,
   "metadata": {},
   "outputs": [],
   "source": [
    "\n",
    "loss = tf.reduce_mean(tf.square(model-tf_data_y))\n",
    "optimizer = tf.train.GradientDescentOptimizer(0.5).minimize(loss) "
   ]
  },
  {
   "cell_type": "code",
   "execution_count": 29,
   "metadata": {},
   "outputs": [
    {
     "name": "stdout",
     "output_type": "stream",
     "text": [
      "ошибка: 18.209919\n",
      "a = -3.028904, b = 4.181486\n",
      "ошибка: 6.413265\n",
      "a = -0.748101, b = 4.003547\n",
      "ошибка: 0.215227\n",
      "a = -0.649924, b = 4.114943\n",
      "ошибка: 0.241518\n",
      "a = -0.145189, b = 4.354897\n",
      "ошибка: 1.453900\n",
      "a = -0.819681, b = 3.461941\n",
      "ошибка: 0.950273\n",
      "a = -0.545023, b = 4.222816\n",
      "ошибка: 0.108745\n",
      "a = -0.236403, b = 3.951334\n",
      "ошибка: 0.344000\n",
      "a = -0.352084, b = 4.109691\n",
      "ошибка: 0.134727\n",
      "a = -0.597283, b = 4.182838\n",
      "ошибка: 0.528606\n",
      "a = -0.224429, b = 3.841881\n"
     ]
    },
    {
     "data": {
      "image/png": "[encoded data removed]",
      "text/plain": [
       "<Figure size 432x288 with 1 Axes>"
      ]
     },
     "metadata": {},
     "output_type": "display_data"
    }
   ],
   "source": [
    "with tf.Session() as session:\n",
    "    tf.global_variables_initializer().run()\n",
    "    for i in range(samples//packetSize):\n",
    "        feed_dict={tf_data_x: data_x[i*packetSize:(i+1)*packetSize], tf_data_y: data_y[i*packetSize:(i+1)*packetSize]}\n",
    "        _, l = session.run([optimizer, loss], feed_dict=feed_dict) \n",
    "        print(\"ошибка: %f\" % (l, ))\n",
    "        print(\"a = %f, b = %f\" % (weight.eval(), bias.eval()))\n",
    "    plt.plot(data_x, list(map(lambda x: weight.eval()*x+bias.eval(), data_x)), data_x, data_y, 'ro')"
   ]
  },
  {
   "cell_type": "code",
   "execution_count": null,
   "metadata": {},
   "outputs": [],
   "source": []
  },
  {
   "cell_type": "code",
   "execution_count": null,
   "metadata": {},
   "outputs": [],
   "source": []
  }
 ],
 "metadata": {
  "kernelspec": {
   "display_name": "Python 3",
   "language": "python",
   "name": "python3"
  },
  "language_info": {
   "codemirror_mode": {
    "name": "ipython",
    "version": 3
   },
   "file_extension": ".py",
   "mimetype": "text/x-python",
   "name": "python",
   "nbconvert_exporter": "python",
   "pygments_lexer": "ipython3",
   "version": "3.6.5"
  }
 },
 "nbformat": 4,
 "nbformat_minor": 2
}
