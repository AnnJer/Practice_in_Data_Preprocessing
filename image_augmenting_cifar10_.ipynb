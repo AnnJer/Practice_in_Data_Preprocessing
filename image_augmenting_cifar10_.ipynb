{
  "nbformat": 4,
  "nbformat_minor": 0,
  "metadata": {
    "colab": {
      "name": "image_augmenting_cifar10 .ipynb",
      "provenance": [],
      "include_colab_link": true
    },
    "kernelspec": {
      "name": "python3",
      "display_name": "Python 3"
    },
    "accelerator": "GPU"
  },
  "cells": [
    {
      "cell_type": "markdown",
      "metadata": {
        "id": "view-in-github",
        "colab_type": "text"
      },
      "source": [
        "<a href=\"https://colab.research.google.com/github/AnnJer/Practice_in_Data_Preprocessing/blob/master/image_augmenting_cifar10_.ipynb\" target=\"_parent\"><img src=\"https://colab.research.google.com/assets/colab-badge.svg\" alt=\"Open In Colab\"/></a>"
      ]
    },
    {
      "cell_type": "code",
      "metadata": {
        "id": "CEJDJdOknNNx",
        "colab_type": "code",
        "outputId": "ce98285b-d928-43b0-9a38-2dd837b91032",
        "colab": {
          "base_uri": "https://localhost:8080/",
          "height": 34
        }
      },
      "source": [
        "from keras.preprocessing.image import ImageDataGenerator\n",
        "from keras.datasets import cifar10\n",
        "import numpy as np\n",
        "\n",
        "from keras import backend as K\n",
        "import keras, tensorflow\n",
        "from keras.models import Sequential\n",
        "from keras.layers.convolutional import Conv2D, Convolution2D, MaxPooling2D\n",
        "from keras.layers.core import Activation, Flatten, Dense, Dropout\n",
        "from keras.datasets import cifar10\n",
        "from keras.utils import np_utils\n",
        "from keras.optimizers import SGD, RMSprop, Adam\n",
        "import numpy as np\n",
        "import matplotlib.pyplot as plt\n",
        "\n"
      ],
      "execution_count": 0,
      "outputs": [
        {
          "output_type": "stream",
          "text": [
            "Using TensorFlow backend.\n"
          ],
          "name": "stderr"
        }
      ]
    },
    {
      "cell_type": "code",
      "metadata": {
        "id": "5spLdbg4uBI1",
        "colab_type": "code",
        "colab": {}
      },
      "source": [
        "EPOCH = 20\n",
        "BATCH_SIZE = 128\n",
        "VERBOSE = 1\n",
        "OPTIMIZER = RMSprop()\n",
        "VALIDATION_SPLIT = 0.2\n",
        "NB_CLASSES = 10\n",
        "INPUT_SHAPE = (32, 32, 3)\n",
        "\n",
        "NUM_TO_AUGMENT=5"
      ],
      "execution_count": 0,
      "outputs": []
    },
    {
      "cell_type": "code",
      "metadata": {
        "id": "E-xTMC3npUjQ",
        "colab_type": "code",
        "outputId": "f4c9be82-bdc3-48a3-9fcf-6b011e3d1aa7",
        "colab": {
          "base_uri": "https://localhost:8080/",
          "height": 52
        }
      },
      "source": [
        "(X_train, y_train), (X_test, y_test) = cifar10.load_data()"
      ],
      "execution_count": 0,
      "outputs": [
        {
          "output_type": "stream",
          "text": [
            "Downloading data from https://www.cs.toronto.edu/~kriz/cifar-10-python.tar.gz\n",
            "170500096/170498071 [==============================] - 43s 0us/step\n"
          ],
          "name": "stdout"
        }
      ]
    },
    {
      "cell_type": "code",
      "metadata": {
        "id": "jwPtU14MpVYd",
        "colab_type": "code",
        "colab": {}
      },
      "source": [
        "from google.colab import files\n",
        "\n",
        "\n",
        "datagen = ImageDataGenerator(rotation_range = 40, \n",
        "                             width_shift_range = 0.2, \n",
        "                             height_shift_range = 0.2,\n",
        "                             zoom_range = 0.2, \n",
        "                             horizontal_flip = True, \n",
        "                             fill_mode = 'nearest')\n",
        "xtas, ytas = [], []\n",
        "for i in range(X_train.shape[0]):\n",
        "    num_aug = 0\n",
        "\n",
        "    x = X_train[i] # (28, 28)\n",
        "    x = x.reshape((1,) + x.shape)  # (1, 32, 32)\n",
        "#     x = x.reshape((1,) + x.shape)  # (1, 1, 32, 32)\n",
        " \n",
        "    for x_aug in datagen.flow(x, batch_size=1,\n",
        "    \tsave_to_dir=None, save_prefix='mnist', save_format='jpeg'):\n",
        "      if num_aug >= NUM_TO_AUGMENT:\n",
        "        break\n",
        "      xtas.append(x_aug[0])\n",
        "      num_aug += 1"
      ],
      "execution_count": 0,
      "outputs": []
    },
    {
      "cell_type": "code",
      "metadata": {
        "id": "4BAc4Jakt_ip",
        "colab_type": "code",
        "colab": {}
      },
      "source": [
        "X_train = X_train.astype('float32')/255\n",
        "X_test = X_test.astype('float32')/255\n",
        "\n",
        "y_train = np_utils.to_categorical(y_train, NB_CLASSES)\n",
        "y_test = np_utils.to_categorical(y_test, NB_CLASSES)"
      ],
      "execution_count": 0,
      "outputs": []
    },
    {
      "cell_type": "code",
      "metadata": {
        "id": "Od_wrh8FuIFp",
        "colab_type": "code",
        "colab": {}
      },
      "source": [
        "class SophisticatedModel:\n",
        "  @staticmethod\n",
        "  def build(input_shape, classes):\n",
        "    model = Sequential()\n",
        "    model.add(Conv2D(32, (3,3), padding = 'same', input_shape = input_shape))\n",
        "    model.add(Activation('relu'))\n",
        "    model.add(Conv2D(32, (3,3), padding = 'same'))\n",
        "    model.add(Activation('relu'))\n",
        "    model.add(MaxPooling2D(pool_size = (2, 2)))\n",
        "    model.add(Dropout(0.25))\n",
        "    model.add(Conv2D(64, (3,3), padding = 'same'))\n",
        "    model.add(Activation('relu'))\n",
        "    model.add(Conv2D(64, 3, 3))\n",
        "    model.add(Activation('relu'))\n",
        "    model.add(MaxPooling2D(pool_size = (2, 2)))\n",
        "    model.add(Dropout(0.25))\n",
        "    model.add(Flatten())\n",
        "    model.add(Dense(512))\n",
        "    model.add(Activation('relu'))\n",
        "    model.add(Dropout(0.5))\n",
        "    model.add(Dense (NB_CLASSES))\n",
        "    model.add(Activation('softmax'))\n",
        "    return model"
      ],
      "execution_count": 0,
      "outputs": []
    },
    {
      "cell_type": "code",
      "metadata": {
        "id": "M2FTlhgZuNfA",
        "colab_type": "code",
        "outputId": "54df10bf-a0f3-4783-f5d6-b8145d5ca26a",
        "colab": {
          "base_uri": "https://localhost:8080/",
          "height": 819
        }
      },
      "source": [
        "model1 = SophisticatedModel.build(input_shape = X_train.shape[1:], classes = NB_CLASSES)\n",
        "\n",
        "datagen.fit(X_train)\n",
        "\n",
        "model1.compile(loss = 'categorical_crossentropy', optimizer = OPTIMIZER, \n",
        "             metrics = ['accuracy'])\n",
        "history = model1.fit_generator(datagen.flow(X_train, y_train, batch_size = BATCH_SIZE), \n",
        "                 samples_per_epoch= X_train.shape[0],  epochs = EPOCH, verbose = VERBOSE)\n",
        "score = model1.evaluate(X_test, y_test, verbose = VERBOSE,batch_size = BATCH_SIZE)\n",
        "model1.save_weights(\"model1.h5\")"
      ],
      "execution_count": 0,
      "outputs": [
        {
          "output_type": "stream",
          "text": [
            "/usr/local/lib/python3.6/dist-packages/ipykernel_launcher.py:13: UserWarning: Update your `Conv2D` call to the Keras 2 API: `Conv2D(64, (3, 3))`\n",
            "  del sys.path[0]\n",
            "/usr/local/lib/python3.6/dist-packages/ipykernel_launcher.py:8: UserWarning: Update your `fit_generator` call to the Keras 2 API: `fit_generator(<keras_pre..., epochs=20, verbose=1, steps_per_epoch=390)`\n",
            "  \n"
          ],
          "name": "stderr"
        },
        {
          "output_type": "stream",
          "text": [
            "Epoch 1/20\n",
            "390/390 [==============================] - 35s 90ms/step - loss: 1.9539 - acc: 0.2854\n",
            "Epoch 2/20\n",
            "390/390 [==============================] - 31s 80ms/step - loss: 1.6667 - acc: 0.3966\n",
            "Epoch 3/20\n",
            "390/390 [==============================] - 31s 80ms/step - loss: 1.5381 - acc: 0.4457\n",
            "Epoch 4/20\n",
            "390/390 [==============================] - 31s 80ms/step - loss: 1.4525 - acc: 0.4761\n",
            "Epoch 5/20\n",
            "390/390 [==============================] - 31s 80ms/step - loss: 1.3826 - acc: 0.5051\n",
            "Epoch 6/20\n",
            "390/390 [==============================] - 31s 80ms/step - loss: 1.3404 - acc: 0.5185\n",
            "Epoch 7/20\n",
            "390/390 [==============================] - 31s 80ms/step - loss: 1.2962 - acc: 0.5388\n",
            "Epoch 8/20\n",
            "390/390 [==============================] - 31s 80ms/step - loss: 1.2624 - acc: 0.5510\n",
            "Epoch 9/20\n",
            "390/390 [==============================] - 31s 79ms/step - loss: 1.2519 - acc: 0.5575\n",
            "Epoch 10/20\n",
            "390/390 [==============================] - 31s 80ms/step - loss: 1.2212 - acc: 0.5655\n",
            "Epoch 11/20\n",
            "390/390 [==============================] - 31s 79ms/step - loss: 1.2028 - acc: 0.5774\n",
            "Epoch 12/20\n",
            "390/390 [==============================] - 31s 79ms/step - loss: 1.1943 - acc: 0.5824\n",
            "Epoch 13/20\n",
            "390/390 [==============================] - 31s 80ms/step - loss: 1.1828 - acc: 0.5861\n",
            "Epoch 14/20\n",
            "390/390 [==============================] - 31s 79ms/step - loss: 1.1746 - acc: 0.5915\n",
            "Epoch 15/20\n",
            "390/390 [==============================] - 31s 79ms/step - loss: 1.1658 - acc: 0.5944\n",
            "Epoch 16/20\n",
            "390/390 [==============================] - 31s 79ms/step - loss: 1.1632 - acc: 0.5966\n",
            "Epoch 17/20\n",
            "390/390 [==============================] - 31s 79ms/step - loss: 1.1545 - acc: 0.5997\n",
            "Epoch 18/20\n",
            "390/390 [==============================] - 31s 78ms/step - loss: 1.1506 - acc: 0.6009\n",
            "Epoch 19/20\n",
            "390/390 [==============================] - 31s 79ms/step - loss: 1.1537 - acc: 0.6017\n",
            "Epoch 20/20\n",
            "390/390 [==============================] - 31s 80ms/step - loss: 1.1524 - acc: 0.6021\n",
            "10000/10000 [==============================] - 1s 99us/step\n"
          ],
          "name": "stdout"
        }
      ]
    },
    {
      "cell_type": "code",
      "metadata": {
        "id": "fNMC45CnZ17L",
        "colab_type": "code",
        "colab": {}
      },
      "source": [
        "model_json = model1.to_json()\n",
        "open('cifar10-_arhitecture.json', 'w').write(model_json)\n",
        "model1.save_weights('cifar10_weihts.h5', overwrite = True)"
      ],
      "execution_count": 0,
      "outputs": []
    },
    {
      "cell_type": "code",
      "metadata": {
        "id": "U48CbU0xr8tU",
        "colab_type": "code",
        "colab": {}
      },
      "source": [
        ""
      ],
      "execution_count": 0,
      "outputs": []
    },
    {
      "cell_type": "code",
      "metadata": {
        "id": "og7DqBqbr--E",
        "colab_type": "code",
        "colab": {}
      },
      "source": [
        ""
      ],
      "execution_count": 0,
      "outputs": []
    }
  ]
}