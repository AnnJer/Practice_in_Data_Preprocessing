{
  "nbformat": 4,
  "nbformat_minor": 0,
  "metadata": {
    "kernelspec": {
      "name": "python3",
      "display_name": "Python 3"
    },
    "language_info": {
      "codemirror_mode": {
        "name": "ipython",
        "version": 3
      },
      "file_extension": ".py",
      "mimetype": "text/x-python",
      "name": "python",
      "nbconvert_exporter": "python",
      "pygments_lexer": "ipython3",
      "version": "3.7.2"
    },
    "colab": {
      "name": "nlp routine2.ipynb",
      "provenance": [],
      "collapsed_sections": [],
      "machine_shape": "hm",
      "include_colab_link": true
    },
    "accelerator": "GPU"
  },
  "cells": [
    {
      "cell_type": "markdown",
      "metadata": {
        "id": "view-in-github",
        "colab_type": "text"
      },
      "source": [
        "<a href=\"https://colab.research.google.com/github/AnnJer/Practice_in_Data_Preprocessing/blob/master/nlp_routine2.ipynb\" target=\"_parent\"><img src=\"https://colab.research.google.com/assets/colab-badge.svg\" alt=\"Open In Colab\"/></a>"
      ]
    },
    {
      "cell_type": "code",
      "metadata": {
        "id": "SDZ0y79QRZ82",
        "colab_type": "code",
        "outputId": "6a104538-4c14-4987-d220-ad37ae398e82",
        "colab": {
          "base_uri": "https://localhost:8080/",
          "height": 193
        }
      },
      "source": [
        "!pip install stop-words"
      ],
      "execution_count": 0,
      "outputs": [
        {
          "output_type": "stream",
          "text": [
            "Collecting stop-words\n",
            "  Downloading https://files.pythonhosted.org/packages/1c/cb/d58290804b7a4c5daa42abbbe2a93c477ae53e45541b1825e86f0dfaaf63/stop-words-2018.7.23.tar.gz\n",
            "Building wheels for collected packages: stop-words\n",
            "  Building wheel for stop-words (setup.py) ... \u001b[?25l\u001b[?25hdone\n",
            "  Created wheel for stop-words: filename=stop_words-2018.7.23-cp36-none-any.whl size=32916 sha256=f48e0582178d3e64fcd06ca1ea8f9ea7aa05f3efae4669a41927338ac4f2bdeb\n",
            "  Stored in directory: /root/.cache/pip/wheels/75/37/6a/2b295e03bd07290f0da95c3adb9a74ba95fbc333aa8b0c7c78\n",
            "Successfully built stop-words\n",
            "Installing collected packages: stop-words\n",
            "Successfully installed stop-words-2018.7.23\n"
          ],
          "name": "stdout"
        }
      ]
    },
    {
      "cell_type": "code",
      "metadata": {
        "id": "rfFxFPTJm_ub",
        "colab_type": "code",
        "outputId": "36c0df07-170c-416c-a148-7345a65afd1b",
        "colab": {
          "base_uri": "https://localhost:8080/",
          "height": 34
        }
      },
      "source": [
        "import pandas as pd\n",
        "from stop_words import get_stop_words\n",
        "from keras.utils import to_categorical\n",
        "\n",
        "\n",
        "from sklearn.feature_extraction.text import CountVectorizer\n",
        "from sklearn.feature_extraction.text import TfidfTransformer\n",
        "from sklearn.linear_model import SGDClassifier\n",
        "from sklearn.model_selection import GridSearchCV\n",
        "from sklearn.pipeline import Pipeline, FeatureUnion\n",
        "from sklearn.preprocessing import MultiLabelBinarizer\n",
        "from sklearn.model_selection import train_test_split\n",
        "from sklearn.feature_extraction.text import TfidfVectorizer\n",
        "from sklearn.ensemble import RandomForestClassifier\n",
        "from sklearn.linear_model import LinearRegression\n",
        "from sklearn.model_selection import train_test_split\n",
        "from sklearn.base import BaseEstimator, TransformerMixin\n",
        "from sklearn.preprocessing import LabelBinarizer\n",
        "\n",
        "from xgboost import XGBClassifier\n",
        "import re\n",
        "import matplotlib.pyplot as plt\n",
        "plt.style.use('seaborn')\n",
        "import seaborn as sns"
      ],
      "execution_count": 0,
      "outputs": [
        {
          "output_type": "stream",
          "text": [
            "Using TensorFlow backend.\n"
          ],
          "name": "stderr"
        }
      ]
    },
    {
      "cell_type": "code",
      "metadata": {
        "id": "sDGPte4qm_vD",
        "colab_type": "code",
        "outputId": "7621d200-dab4-4268-ab66-2bdc8955b1c9",
        "colab": {
          "base_uri": "https://localhost:8080/",
          "height": 124
        }
      },
      "source": [
        "from google.colab import drive \n",
        "drive.mount('/content/gdrive')"
      ],
      "execution_count": 0,
      "outputs": [
        {
          "output_type": "stream",
          "text": [
            "Go to this URL in a browser: https://accounts.google.com/o/oauth2/auth?client_id=947318989803-6bn6qk8qdgf4n4g3pfee6491hc0brc4i.apps.googleusercontent.com&redirect_uri=urn%3Aietf%3Awg%3Aoauth%3A2.0%3Aoob&scope=email%20https%3A%2F%2Fwww.googleapis.com%2Fauth%2Fdocs.test%20https%3A%2F%2Fwww.googleapis.com%2Fauth%2Fdrive%20https%3A%2F%2Fwww.googleapis.com%2Fauth%2Fdrive.photos.readonly%20https%3A%2F%2Fwww.googleapis.com%2Fauth%2Fpeopleapi.readonly&response_type=code\n",
            "\n",
            "Enter your authorization code:\n",
            "··········\n",
            "Mounted at /content/gdrive\n"
          ],
          "name": "stdout"
        }
      ]
    },
    {
      "cell_type": "code",
      "metadata": {
        "id": "rBC83fpootRX",
        "colab_type": "code",
        "outputId": "65396486-0571-4bad-d52b-791e7d46c53d",
        "colab": {
          "base_uri": "https://localhost:8080/",
          "height": 328
        }
      },
      "source": [
        "data = pd.read_csv(\"/content/gdrive/My Drive/plot/wiki_movie_plots_deduped.csv\")\n",
        "\n",
        "print(\"Number of rows: {}, columns: {} in the dataset\".format(*data.shape))\n",
        "data.head()"
      ],
      "execution_count": 0,
      "outputs": [
        {
          "output_type": "stream",
          "text": [
            "Number of rows: 34886, columns: 8 in the dataset\n"
          ],
          "name": "stdout"
        },
        {
          "output_type": "execute_result",
          "data": {
            "text/html": [
              "<div>\n",
              "<style scoped>\n",
              "    .dataframe tbody tr th:only-of-type {\n",
              "        vertical-align: middle;\n",
              "    }\n",
              "\n",
              "    .dataframe tbody tr th {\n",
              "        vertical-align: top;\n",
              "    }\n",
              "\n",
              "    .dataframe thead th {\n",
              "        text-align: right;\n",
              "    }\n",
              "</style>\n",
              "<table border=\"1\" class=\"dataframe\">\n",
              "  <thead>\n",
              "    <tr style=\"text-align: right;\">\n",
              "      <th></th>\n",
              "      <th>Release Year</th>\n",
              "      <th>Title</th>\n",
              "      <th>Origin/Ethnicity</th>\n",
              "      <th>Director</th>\n",
              "      <th>Cast</th>\n",
              "      <th>Genre</th>\n",
              "      <th>Wiki Page</th>\n",
              "      <th>Plot</th>\n",
              "    </tr>\n",
              "  </thead>\n",
              "  <tbody>\n",
              "    <tr>\n",
              "      <th>0</th>\n",
              "      <td>1901</td>\n",
              "      <td>Kansas Saloon Smashers</td>\n",
              "      <td>American</td>\n",
              "      <td>Unknown</td>\n",
              "      <td>NaN</td>\n",
              "      <td>unknown</td>\n",
              "      <td>https://en.wikipedia.org/wiki/Kansas_Saloon_Sm...</td>\n",
              "      <td>A bartender is working at a saloon, serving dr...</td>\n",
              "    </tr>\n",
              "    <tr>\n",
              "      <th>1</th>\n",
              "      <td>1901</td>\n",
              "      <td>Love by the Light of the Moon</td>\n",
              "      <td>American</td>\n",
              "      <td>Unknown</td>\n",
              "      <td>NaN</td>\n",
              "      <td>unknown</td>\n",
              "      <td>https://en.wikipedia.org/wiki/Love_by_the_Ligh...</td>\n",
              "      <td>The moon, painted with a smiling face hangs ov...</td>\n",
              "    </tr>\n",
              "    <tr>\n",
              "      <th>2</th>\n",
              "      <td>1901</td>\n",
              "      <td>The Martyred Presidents</td>\n",
              "      <td>American</td>\n",
              "      <td>Unknown</td>\n",
              "      <td>NaN</td>\n",
              "      <td>unknown</td>\n",
              "      <td>https://en.wikipedia.org/wiki/The_Martyred_Pre...</td>\n",
              "      <td>The film, just over a minute long, is composed...</td>\n",
              "    </tr>\n",
              "    <tr>\n",
              "      <th>3</th>\n",
              "      <td>1901</td>\n",
              "      <td>Terrible Teddy, the Grizzly King</td>\n",
              "      <td>American</td>\n",
              "      <td>Unknown</td>\n",
              "      <td>NaN</td>\n",
              "      <td>unknown</td>\n",
              "      <td>https://en.wikipedia.org/wiki/Terrible_Teddy,_...</td>\n",
              "      <td>Lasting just 61 seconds and consisting of two ...</td>\n",
              "    </tr>\n",
              "    <tr>\n",
              "      <th>4</th>\n",
              "      <td>1902</td>\n",
              "      <td>Jack and the Beanstalk</td>\n",
              "      <td>American</td>\n",
              "      <td>George S. Fleming, Edwin S. Porter</td>\n",
              "      <td>NaN</td>\n",
              "      <td>unknown</td>\n",
              "      <td>https://en.wikipedia.org/wiki/Jack_and_the_Bea...</td>\n",
              "      <td>The earliest known adaptation of the classic f...</td>\n",
              "    </tr>\n",
              "  </tbody>\n",
              "</table>\n",
              "</div>"
            ],
            "text/plain": [
              "   Release Year  ...                                               Plot\n",
              "0          1901  ...  A bartender is working at a saloon, serving dr...\n",
              "1          1901  ...  The moon, painted with a smiling face hangs ov...\n",
              "2          1901  ...  The film, just over a minute long, is composed...\n",
              "3          1901  ...  Lasting just 61 seconds and consisting of two ...\n",
              "4          1902  ...  The earliest known adaptation of the classic f...\n",
              "\n",
              "[5 rows x 8 columns]"
            ]
          },
          "metadata": {
            "tags": []
          },
          "execution_count": 4
        }
      ]
    },
    {
      "cell_type": "markdown",
      "metadata": {
        "id": "eKNi7T_Hm_vd",
        "colab_type": "text"
      },
      "source": [
        "Let`s delete unimportant columns"
      ]
    },
    {
      "cell_type": "code",
      "metadata": {
        "id": "VJ6v8OoRm_vk",
        "colab_type": "code",
        "outputId": "43843f39-9ae8-4182-dca8-0210a53a84d7",
        "colab": {
          "base_uri": "https://localhost:8080/",
          "height": 206
        }
      },
      "source": [
        "data = data.drop([\"Release Year\", \"Title\", \"Origin/Ethnicity\", \"Director\", \"Cast\", \"Wiki Page\"], axis = 1)\n",
        "\n",
        "data.head(5)"
      ],
      "execution_count": 0,
      "outputs": [
        {
          "output_type": "execute_result",
          "data": {
            "text/html": [
              "<div>\n",
              "<style scoped>\n",
              "    .dataframe tbody tr th:only-of-type {\n",
              "        vertical-align: middle;\n",
              "    }\n",
              "\n",
              "    .dataframe tbody tr th {\n",
              "        vertical-align: top;\n",
              "    }\n",
              "\n",
              "    .dataframe thead th {\n",
              "        text-align: right;\n",
              "    }\n",
              "</style>\n",
              "<table border=\"1\" class=\"dataframe\">\n",
              "  <thead>\n",
              "    <tr style=\"text-align: right;\">\n",
              "      <th></th>\n",
              "      <th>Genre</th>\n",
              "      <th>Plot</th>\n",
              "    </tr>\n",
              "  </thead>\n",
              "  <tbody>\n",
              "    <tr>\n",
              "      <th>0</th>\n",
              "      <td>unknown</td>\n",
              "      <td>A bartender is working at a saloon, serving dr...</td>\n",
              "    </tr>\n",
              "    <tr>\n",
              "      <th>1</th>\n",
              "      <td>unknown</td>\n",
              "      <td>The moon, painted with a smiling face hangs ov...</td>\n",
              "    </tr>\n",
              "    <tr>\n",
              "      <th>2</th>\n",
              "      <td>unknown</td>\n",
              "      <td>The film, just over a minute long, is composed...</td>\n",
              "    </tr>\n",
              "    <tr>\n",
              "      <th>3</th>\n",
              "      <td>unknown</td>\n",
              "      <td>Lasting just 61 seconds and consisting of two ...</td>\n",
              "    </tr>\n",
              "    <tr>\n",
              "      <th>4</th>\n",
              "      <td>unknown</td>\n",
              "      <td>The earliest known adaptation of the classic f...</td>\n",
              "    </tr>\n",
              "  </tbody>\n",
              "</table>\n",
              "</div>"
            ],
            "text/plain": [
              "     Genre                                               Plot\n",
              "0  unknown  A bartender is working at a saloon, serving dr...\n",
              "1  unknown  The moon, painted with a smiling face hangs ov...\n",
              "2  unknown  The film, just over a minute long, is composed...\n",
              "3  unknown  Lasting just 61 seconds and consisting of two ...\n",
              "4  unknown  The earliest known adaptation of the classic f..."
            ]
          },
          "metadata": {
            "tags": []
          },
          "execution_count": 5
        }
      ]
    },
    {
      "cell_type": "code",
      "metadata": {
        "id": "qD2SOyy9m_v5",
        "colab_type": "code",
        "outputId": "1d898ae6-36c6-40df-eb06-196beff67b2b",
        "colab": {
          "base_uri": "https://localhost:8080/",
          "height": 52
        }
      },
      "source": [
        "print(\"Genre column contains {} cells with whitespaces and {} null values \".format(data.Genre.str.isspace().sum(),\n",
        "                                                                                data.Genre.isnull().sum()))\n",
        "print(\"Plot column contains {} cells with whitespaces and {} null values\".format(data.Plot.str.isspace().sum(), \n",
        "                                                                             data.Plot.isnull().sum()))"
      ],
      "execution_count": 0,
      "outputs": [
        {
          "output_type": "stream",
          "text": [
            "Genre column contains 28 cells with whitespaces and 0 null values \n",
            "Plot column contains 0 cells with whitespaces and 0 null values\n"
          ],
          "name": "stdout"
        }
      ]
    },
    {
      "cell_type": "markdown",
      "metadata": {
        "id": "Td_FY0JQm_wQ",
        "colab_type": "text"
      },
      "source": [
        "After analysis the data, you need to delete the \"unknown\" values and whitespaces in \"Genre\"."
      ]
    },
    {
      "cell_type": "code",
      "metadata": {
        "id": "uEpLTvlum_wY",
        "colab_type": "code",
        "colab": {}
      },
      "source": [
        "data = data.drop(data[data.Genre.str.isspace()].index)\n",
        "data = data.drop(data[data.Genre == \"unknown\"].index)\n",
        "\n",
        "plot = data[\"Plot\"]\n",
        "label = data[\"Genre\"]  \n",
        "\n",
        "# data.drop(data.index, inplace=True) #delete data in dataframe"
      ],
      "execution_count": 0,
      "outputs": []
    },
    {
      "cell_type": "code",
      "metadata": {
        "id": "lbGvCCycm_ww",
        "colab_type": "code",
        "outputId": "b9f79286-5780-4ec1-af31-4f766c850574",
        "colab": {
          "base_uri": "https://localhost:8080/",
          "height": 453
        }
      },
      "source": [
        "label.groupby(label).size().sort_values(ascending=False).head(7).plot(kind='barh', \n",
        "                figsize=(10,6), legend=False, color='salmon')\n",
        "plt.xlabel('\\nAmount', fontsize=12)\n",
        "plt.ylabel('Genre\\n', fontsize=12)\n",
        "plt.title('\\nTop-7 popular genres\\n', fontsize=14, fontweight='bold');"
      ],
      "execution_count": 0,
      "outputs": [
        {
          "output_type": "display_data",
          "data": {
            "image/png": "[encoded data removed]",
            "text/plain": [
              "<Figure size 720x432 with 1 Axes>"
            ]
          },
          "metadata": {
            "tags": []
          }
        }
      ]
    },
    {
      "cell_type": "markdown",
      "metadata": {
        "id": "38_dtRVem_xK",
        "colab_type": "text"
      },
      "source": [
        "First we will need to transform each element of labels before passing it to the MultiLabelBinarizer. Label needs to be cleaned from extra characters and separated by comma.  Let's push data processing into a separate classes."
      ]
    },
    {
      "cell_type": "code",
      "metadata": {
        "id": "gp3Wkubom_xT",
        "colab_type": "code",
        "colab": {}
      },
      "source": [
        "\n",
        "class LabelPreprocessing(TransformerMixin):\n",
        "    def __init__(self, *args, **kwargs):\n",
        "        pass\n",
        "    \n",
        "    def fit(self,X ,y=None):\n",
        "        super(LabelPreprocessing, self).fit(X)\n",
        "        return self\n",
        "    \n",
        "    def transform(self, y, X=None):\n",
        "        y = y.str.findall(r'([a-zA-Z]{3,})') \n",
        "        y = y.replace(regex=r'(film)', value=' ')\n",
        "        return y.values\n",
        "    \n",
        "class PlotPreprocessing(BaseEstimator, TransformerMixin):\n",
        "    def __init__(self):\n",
        "        self.REPLACE_BY_SPACE_RE = re.compile('[/(){}\\[\\]\\|@,;]')\n",
        "        self.BAD_SYMBOLS_RE = re.compile('[^0-9a-z #+_]')\n",
        "\n",
        "    def fit(self, X, y=None, **fit_params):\n",
        "        return self\n",
        "\n",
        "    def transform(self, X, y=None, **fit_params):\n",
        "        X = X.str.lower()\n",
        "        X = X.map(lambda x: re.sub(self.REPLACE_BY_SPACE_RE,\" \",x))\n",
        "        X = X.map(lambda x: re.sub(r'\\s+',\" \",x))\n",
        "        return X.values\n",
        "    \n",
        "    def fit_transform(self,y,X, **fit_params):\n",
        "        self.fit(X,y)\n",
        "        return self.transform(X,y)"
      ],
      "execution_count": 0,
      "outputs": []
    },
    {
      "cell_type": "code",
      "metadata": {
        "id": "TmytJzXJpJo7",
        "colab_type": "code",
        "colab": {}
      },
      "source": [
        "newx = PlotPreprocessing().transform(X=plot)\n",
        "tfidf = TfidfVectorizer(ngram_range=(1,2),max_df=0.9,min_df=5,token_pattern=r'(\\S+)', stop_words=get_stop_words('en'))\n",
        "ft = tfidf.fit(newx)\n",
        "t = ft.transform(newx)"
      ],
      "execution_count": 0,
      "outputs": []
    },
    {
      "cell_type": "code",
      "metadata": {
        "id": "Jf273Fv3vXXN",
        "colab_type": "code",
        "colab": {}
      },
      "source": [
        "label_preprocessing = LabelPreprocessing().transform(label)\n",
        "\n",
        "mlb = MultiLabelBinarizer()\n",
        "matrix = mlb.fit_transform(label_preprocessing)"
      ],
      "execution_count": 0,
      "outputs": []
    },
    {
      "cell_type": "code",
      "metadata": {
        "id": "3VAASmnDm_xt",
        "colab_type": "code",
        "colab": {}
      },
      "source": [
        "pipeline = Pipeline([\n",
        "    ('plot', PlotPreprocessing())\n",
        "    ,\n",
        "    ('tfidf_vectorizer', TfidfVectorizer(ngram_range=(1,2),max_df=0.9,min_df=5,token_pattern=r'(\\S+)'))\n",
        "    ,\n",
        "    ('model', LinearRegression())\n",
        "])\n",
        "\n",
        "train_X, train_y, test_X, test_y = train_test_split(plot, label)\n",
        "\n",
        "pipeline.fit_predict(train_X, train_y)\n",
        "y_pred = pipeline.predict( test_X ) "
      ],
      "execution_count": 0,
      "outputs": []
    },
    {
      "cell_type": "markdown",
      "metadata": {
        "id": "7eDHDgBpm_yA",
        "colab_type": "text"
      },
      "source": [
        "As you might have noticed earlier, we a have a problem of multi-label classification here, because one movie can belongs to several genres concurrently. "
      ]
    },
    {
      "cell_type": "code",
      "metadata": {
        "id": "flBtCEm1m_yJ",
        "colab_type": "code",
        "colab": {}
      },
      "source": [
        "pipeline = Pipeline([\n",
        "    (\n",
        "'text_preparation', FeatureUnion([\n",
        "    ('label', Pipeline([\n",
        "        ('labelPreprocessing', LabelPreprocessing()),\n",
        "        ('mlb', MLBinarizer())\n",
        "    ])), \n",
        "    ('plot', PlotPreprocessing()\n",
        "    )\n",
        "  ])), \n",
        "  ('tfidf_vectorizer', TfidfVectorizer(ngram_range=(1,2),max_df=0.9,min_df=5,token_pattern=r'(\\S+)')\n",
        "  ),\n",
        "  ('model', LinearRegression())\n",
        "    \n",
        "])\n",
        "\n",
        "train_X, train_y, test_X, test_y = train_test_split(plot, label)\n",
        "\n",
        "pipeline.fit(train_X, train_y)\n",
        "y_pred = pipeline.predict( test_X ) "
      ],
      "execution_count": 0,
      "outputs": []
    },
    {
      "cell_type": "code",
      "metadata": {
        "id": "W5l-bTedhhuV",
        "colab_type": "code",
        "colab": {}
      },
      "source": [
        "from sklearn.pipeline import Pipeline, FeatureUnion\n",
        "from sklearn.feature_extraction.text import TfidfVectorizer\n",
        "from sklearn.preprocessing import StandardScaler\n",
        "from sklearn.decomposition import TruncatedSVD\n",
        "from sklearn.ensemble import RandomForestClassifier\n",
        "from xgboost import XGBClassifier\n",
        "\n",
        "classifier = Pipeline([\n",
        "    ('features', FeatureUnion([\n",
        "        ('text', Pipeline([\n",
        "            ('plot', PlotPreprocessing()),\n",
        "            ('tfidf', TfidfVectorizer(\n",
        "                     min_df=.0025, max_df=0.25, ngram_range=(1,3))),\n",
        "            ('svd', TruncatedSVD(algorithm='randomized', n_components=300)), #for XGB\n",
        "        ])),\n",
        "        ('words', Pipeline([\n",
        "\n",
        "            ('wscaler', StandardScaler()),\n",
        "        ])),\n",
        "    ])),\n",
        "    ('clf', XGBClassifier(max_depth=3, n_estimators=300, learning_rate=0.1)),\n",
        "#    ('clf', RandomForestClassifier()),\n",
        "    ])\n",
        "\n",
        "train_X, train_y, test_X, test_y = train_test_split(plot, label)\n",
        "\n",
        "classifier.fit(train_X, train_y)\n",
        "y_pred = classifier.predict( test_X ) "
      ],
      "execution_count": 0,
      "outputs": []
    },
    {
      "cell_type": "code",
      "metadata": {
        "id": "rHDW1eDY2JBC",
        "colab_type": "code",
        "colab": {}
      },
      "source": [
        ""
      ],
      "execution_count": 0,
      "outputs": []
    }
  ]
}