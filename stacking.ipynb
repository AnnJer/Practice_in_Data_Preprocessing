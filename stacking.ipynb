{
  "nbformat": 4,
  "nbformat_minor": 0,
  "metadata": {
    "colab": {
      "name": "stacking.ipynb",
      "provenance": [],
      "include_colab_link": true
    },
    "kernelspec": {
      "display_name": "Python 3",
      "language": "python",
      "name": "python3"
    }
  },
  "cells": [
    {
      "cell_type": "markdown",
      "metadata": {
        "id": "view-in-github",
        "colab_type": "text"
      },
      "source": [
        "<a href=\"https://colab.research.google.com/github/AnnJer/Practice_in_Data_Preprocessing/blob/master/stacking.ipynb\" target=\"_parent\"><img src=\"https://colab.research.google.com/assets/colab-badge.svg\" alt=\"Open In Colab\"/></a>"
      ]
    },
    {
      "cell_type": "code",
      "metadata": {
        "id": "z3lOrtIPfMfl",
        "colab_type": "code",
        "colab": {}
      },
      "source": [
        ""
      ],
      "execution_count": 0,
      "outputs": []
    },
    {
      "cell_type": "code",
      "metadata": {
        "id": "AXnW7_WxfMf8",
        "colab_type": "code",
        "outputId": "9de8cb45-0cae-4cce-e6c0-61ee417fcf4a",
        "colab": {
          "resources": {
            "http://localhost:8080/nbextensions/google.colab/files.js": {
              "data": "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",
              "ok": true,
              "headers": [
                [
                  "content-type",
                  "application/javascript"
                ]
              ],
              "status": 200,
              "status_text": "OK"
            }
          },
          "base_uri": "https://localhost:8080/",
          "height": 328
        }
      },
      "source": [
        "#загрузка данных\n",
        "from google.colab import files\n",
        "\n",
        "train = files.upload()\n",
        "test= files.upload()\n",
        "\n",
        "# train = pd.read_csv('/home/ann/task/train.tsv', sep='\\t')\n",
        "# test = pd.read_csv('/home/ann/task/dev.tsv', sep='\\t')\n",
        "train = train[:100000]\n",
        "train_X = train.drop(['click', 'id'], axis=1)\n",
        "train_y = train['click']\n",
        "\n",
        "test_X = train.drop(['click', 'id'], axis=1)\n",
        "test_y = train['click']"
      ],
      "execution_count": 0,
      "outputs": [
        {
          "output_type": "display_data",
          "data": {
            "text/html": [
              "\n",
              "     <input type=\"file\" id=\"files-f6e9e3d4-11fc-4883-a9a7-674fe2971ada\" name=\"files[]\" multiple disabled />\n",
              "     <output id=\"result-f6e9e3d4-11fc-4883-a9a7-674fe2971ada\">\n",
              "      Upload widget is only available when the cell has been executed in the\n",
              "      current browser session. Please rerun this cell to enable.\n",
              "      </output>\n",
              "      <script src=\"/nbextensions/google.colab/files.js\"></script> "
            ],
            "text/plain": [
              "<IPython.core.display.HTML object>"
            ]
          },
          "metadata": {
            "tags": []
          }
        },
        {
          "output_type": "display_data",
          "data": {
            "text/html": [
              "\n",
              "     <input type=\"file\" id=\"files-f5d0ba3f-4b77-4a8b-814e-5c9a4980f327\" name=\"files[]\" multiple disabled />\n",
              "     <output id=\"result-f5d0ba3f-4b77-4a8b-814e-5c9a4980f327\">\n",
              "      Upload widget is only available when the cell has been executed in the\n",
              "      current browser session. Please rerun this cell to enable.\n",
              "      </output>\n",
              "      <script src=\"/nbextensions/google.colab/files.js\"></script> "
            ],
            "text/plain": [
              "<IPython.core.display.HTML object>"
            ]
          },
          "metadata": {
            "tags": []
          }
        },
        {
          "output_type": "stream",
          "text": [
            "Saving dev.tsv to dev.tsv\n"
          ],
          "name": "stdout"
        },
        {
          "output_type": "error",
          "ename": "TypeError",
          "evalue": "ignored",
          "traceback": [
            "\u001b[0;31m---------------------------------------------------------------------------\u001b[0m",
            "\u001b[0;31mTypeError\u001b[0m                                 Traceback (most recent call last)",
            "\u001b[0;32m<ipython-input-8-1aeed74237ff>\u001b[0m in \u001b[0;36m<module>\u001b[0;34m()\u001b[0m\n\u001b[1;32m      6\u001b[0m \u001b[0;31m# train = pd.read_csv('/home/ann/task/train.tsv', sep='\\t')\u001b[0m\u001b[0;34m\u001b[0m\u001b[0;34m\u001b[0m\u001b[0m\n\u001b[1;32m      7\u001b[0m \u001b[0;31m# test = pd.read_csv('/home/ann/task/dev.tsv', sep='\\t')\u001b[0m\u001b[0;34m\u001b[0m\u001b[0;34m\u001b[0m\u001b[0m\n\u001b[0;32m----> 8\u001b[0;31m \u001b[0mtrain\u001b[0m \u001b[0;34m=\u001b[0m \u001b[0mtrain\u001b[0m\u001b[0;34m[\u001b[0m\u001b[0;34m:\u001b[0m\u001b[0;36m100000\u001b[0m\u001b[0;34m]\u001b[0m\u001b[0;34m\u001b[0m\u001b[0m\n\u001b[0m\u001b[1;32m      9\u001b[0m \u001b[0mtrain_X\u001b[0m \u001b[0;34m=\u001b[0m \u001b[0mtrain\u001b[0m\u001b[0;34m.\u001b[0m\u001b[0mdrop\u001b[0m\u001b[0;34m(\u001b[0m\u001b[0;34m[\u001b[0m\u001b[0;34m'click'\u001b[0m\u001b[0;34m,\u001b[0m \u001b[0;34m'id'\u001b[0m\u001b[0;34m]\u001b[0m\u001b[0;34m,\u001b[0m \u001b[0maxis\u001b[0m\u001b[0;34m=\u001b[0m\u001b[0;36m1\u001b[0m\u001b[0;34m)\u001b[0m\u001b[0;34m\u001b[0m\u001b[0m\n\u001b[1;32m     10\u001b[0m \u001b[0mtrain_y\u001b[0m \u001b[0;34m=\u001b[0m \u001b[0mtrain\u001b[0m\u001b[0;34m[\u001b[0m\u001b[0;34m'click'\u001b[0m\u001b[0;34m]\u001b[0m\u001b[0;34m\u001b[0m\u001b[0m\n",
            "\u001b[0;31mTypeError\u001b[0m: unhashable type: 'slice'"
          ]
        }
      ]
    },
    {
      "cell_type": "code",
      "metadata": {
        "id": "i1_3rSDFfMes",
        "colab_type": "code",
        "outputId": "35ee6d66-9992-4a1e-90ac-4009f99f72dc",
        "colab": {
          "base_uri": "https://localhost:8080/",
          "height": 34
        }
      },
      "source": [
        "import pandas as pd\n",
        "import numpy as np\n",
        "\n",
        "%pylab inline\n",
        "\n",
        "plt.style.use('default')\n",
        "figsize(12, 9)\n",
        "\n",
        "import warnings\n",
        "warnings.filterwarnings(\"ignore\")\n",
        "\n",
        "\n",
        "pd.set_option('display.max_columns', None)\n",
        "import matplotlib.pyplot as plt\n",
        "\n",
        "import matplotlib as mpl\n",
        "mpl.rcParams['font.family'] = 'Ubuntu'\n",
        "\n",
        "plt.rc('text', usetex=False)\n",
        "plt.rc('font', family='serif')\n",
        "plt.rc('font', weight='bold')\n",
        "plt.rc('xtick', labelsize=14) \n",
        "plt.rc('ytick', labelsize=14)\n",
        "\n",
        "from matplotlib import rc\n",
        "font = {'family': 'Vernada',\n",
        "        'weight': 'normal',\n",
        "        'size': 10}\n",
        "rc('font', **font)"
      ],
      "execution_count": 0,
      "outputs": [
        {
          "output_type": "stream",
          "text": [
            "Populating the interactive namespace from numpy and matplotlib\n"
          ],
          "name": "stdout"
        }
      ]
    },
    {
      "cell_type": "code",
      "metadata": {
        "id": "1zp7U55LfMgX",
        "colab_type": "code",
        "colab": {}
      },
      "source": [
        "train['click'].mean()"
      ],
      "execution_count": 0,
      "outputs": []
    },
    {
      "cell_type": "code",
      "metadata": {
        "id": "w8ohqf-2fMgv",
        "colab_type": "code",
        "colab": {}
      },
      "source": [
        "test['click'].mean()"
      ],
      "execution_count": 0,
      "outputs": []
    },
    {
      "cell_type": "code",
      "metadata": {
        "id": "qpKeXtrGfMhG",
        "colab_type": "code",
        "colab": {}
      },
      "source": [
        "#объединить все в один датасет\n",
        "data = pd.concat([train, test])\n",
        "data = data.iloc[:10000]\n",
        "\n",
        "data.describe()\n",
        "data.shape"
      ],
      "execution_count": 0,
      "outputs": []
    },
    {
      "cell_type": "code",
      "metadata": {
        "id": "JJkwKLmsfMhi",
        "colab_type": "code",
        "colab": {}
      },
      "source": [
        "data['click'].mean()"
      ],
      "execution_count": 0,
      "outputs": []
    },
    {
      "cell_type": "code",
      "metadata": {
        "id": "lk6nzRTafMiD",
        "colab_type": "code",
        "colab": {}
      },
      "source": [
        "from sklearn.base import ClassifierMixin, BaseEstimator\n",
        "from sklearn.model_selection import cross_val_predict\n",
        "from sklearn.model_selection import train_test_split\n",
        "\n",
        "class Stacking(BaseEstimator, ClassifierMixin):\n",
        "    def __init__(self, models, ens_model):\n",
        "        \"\"\"\n",
        "        Инициализация\n",
        "        models - базовые модели для стекинга\n",
        "        ens_model - мета-модель\n",
        "        \"\"\"\n",
        "        self.models = models\n",
        "        self.ens_model = ens_model\n",
        "        self.n = len(models)\n",
        "        self.valid = None\n",
        "        \n",
        "    def fit(self, X, y=None, p=0.25, cv=3, err=0.001, random_state=None):\n",
        "        \"\"\"\n",
        "        Обучение стекинга\n",
        "        p - в каком отношении делить на обучение / тест\n",
        "            если p = 0 - используем всё обучение!\n",
        "        cv  (при p=0) - сколько фолдов использовать\n",
        "        err (при p=0) - величина случайной добавки к метапризнакам\n",
        "        random_state - инициализация генератора\n",
        "            \n",
        "        \"\"\"\n",
        "        if (p > 0): # делим на обучение и тест\n",
        "            # разбиение на обучение моделей и метамодели\n",
        "            train, valid, y_train, y_valid = train_test_split(X, y, test_size=p, random_state=random_state)\n",
        "            \n",
        "            # заполнение матрицы для обучения метамодели\n",
        "            self.valid = np.zeros((valid.shape[0], self.n))\n",
        "            for t, clf in enumerate(self.models):\n",
        "                clf.fit(train, y_train)\n",
        "                self.valid[:, t] = clf.predict(valid)\n",
        "                \n",
        "            # обучение метамодели\n",
        "            self.ens_model.fit(self.valid, y_valid)\n",
        "            \n",
        "        else: # используем всё обучение\n",
        "            \n",
        "            # для регуляризации - берём случайные добавки\n",
        "            self.valid = err*np.random.randn(X.shape[0], self.n)\n",
        "            \n",
        "            for t, clf in enumerate(self.models):\n",
        "                # это oob-ответы алгоритмов\n",
        "                self.valid[:, t] += cross_val_predict(clf, X, y, cv=cv, n_jobs=-1, method='predict')\n",
        "                # но сам алгоритм надо настроить\n",
        "                clf.fit(X, y)\n",
        "            \n",
        "            # обучение метамодели\n",
        "            self.ens_model.fit(self.valid, y)  \n",
        "            \n",
        "\n",
        "        return self\n",
        "    \n",
        "\n",
        "\n",
        "    def predict(self, X, y=None):\n",
        "        \"\"\"\n",
        "        Работа стэкинга\n",
        "        \"\"\"\n",
        "        # заполение матрицы для мета-классификатора\n",
        "        X_meta = np.zeros((X.shape[0], self.n))\n",
        "        \n",
        "        for t, clf in enumerate(self.models):\n",
        "            X_meta[:, t] = clf.predict(X)\n",
        "        \n",
        "        a = self.ens_model.predict(X_meta)\n",
        "        \n",
        "        return (a)"
      ],
      "execution_count": 0,
      "outputs": []
    },
    {
      "cell_type": "code",
      "metadata": {
        "id": "JhMpEKm4fMiy",
        "colab_type": "code",
        "colab": {}
      },
      "source": [
        "from sklearn.metrics import roc_auc_score\n",
        "\n",
        "def run_and_plot(clf, X, y, label):\n",
        "    # plt.figure(figsize=(6, 5))\n",
        "    \n",
        "    a = clf.predict(X)\n",
        "    print (label + ' AUC-ROC  = ' + str( roc_auc_score(y, a) ))\n",
        "#     xx, yy = np.meshgrid(np.linspace(-3, 3, 500), np.linspace(-3, 3, 500))\n",
        "\n",
        "    \n",
        "    \n",
        "\n",
        "#     Z = clf.predict(np.c_[xx.ravel(), yy.ravel()])\n",
        "#     Z = Z.reshape(xx.shape)\n",
        "\n",
        "#     plt.figure(figsize=(8, 7))\n",
        "#     plt.contourf(xx, yy, Z, levels=np.linspace(Z.min(), Z.max(), 20), cmap=plt.cm.bwr, alpha=0.3) # plt.cm.Blues_r cmap=plt.cm.Blues_r)\n",
        "#     #a_ = plt.contour(xx, yy, Z, levels=[threshold], linewidths=1, colors='black')\n",
        "#     #plt.contourf(xx, yy, Z, levels=[threshold, Z.max()], colors='#CCDDFF')\n",
        "    \n",
        "#     # не всё... :100\n",
        "#     plt.scatter(X[:300, 0], X[:300, 1], c=y[:300], s=20, alpha=1.0)\n",
        "#     plt.xlim([-3, 3])\n",
        "#     plt.ylim([-3, 3])\n",
        "#     # plt.axis('tight')\n",
        "#     plt.axis('off')\n",
        "#     plt.title(label)"
      ],
      "execution_count": 0,
      "outputs": []
    },
    {
      "cell_type": "code",
      "metadata": {
        "id": "4zBEyp-nfMjP",
        "colab_type": "code",
        "colab": {}
      },
      "source": [
        "X = data.drop(['click', 'id'], axis=1)\n",
        "y = data['click']\n",
        "\n",
        "# train_X, test_X, train_y, test_y = train_test_split(X, y, train_size=0.7, random_state=1999)"
      ],
      "execution_count": 0,
      "outputs": []
    },
    {
      "cell_type": "code",
      "metadata": {
        "id": "mPOz1H3-fMjh",
        "colab_type": "code",
        "colab": {}
      },
      "source": [
        "from sklearn.model_selection import GridSearchCV, cross_val_score\n",
        "from sklearn.ensemble import RandomForestRegressor\n",
        "\n",
        "from sklearn.tree import DecisionTreeRegressor\n",
        "tree = DecisionTreeRegressor(max_depth=5, random_state=17)\n",
        "\n",
        "tree_params = {'max_depth': range(1,11),\n",
        "               'max_features': range(4,19)}\n",
        "\n",
        "tree_grid = GridSearchCV(tree, tree_params,\n",
        "                         cv=5, n_jobs=-1,\n",
        "                        verbose=True)\n",
        "\n",
        "tree_grid.fit(train_X, train_y)\n",
        "tree_grid.best_params_"
      ],
      "execution_count": 0,
      "outputs": []
    },
    {
      "cell_type": "code",
      "metadata": {
        "id": "HMlIezoVfMkE",
        "colab_type": "code",
        "colab": {}
      },
      "source": [
        "tree_grid.best_score_"
      ],
      "execution_count": 0,
      "outputs": []
    },
    {
      "cell_type": "code",
      "metadata": {
        "id": "5qKYMqkbfMkY",
        "colab_type": "code",
        "colab": {}
      },
      "source": [
        "import lightgbm as lgb\n",
        "from sklearn.metrics import roc_auc_score\n",
        "from sklearn.neighbors import KNeighborsRegressor\n",
        "from sklearn.linear_model import Ridge\n",
        "from sklearn.ensemble import RandomForestRegressor\n",
        "\n",
        "\n",
        "knn1 = KNeighborsRegressor(n_neighbors=3)\n",
        "knn1.fit(train_X, train_y)\n",
        "run_and_plot(knn1, test_X, test_y, '3NN')\n",
        "\n",
        "# knn2 = KNeighborsRegressor(n_neighbors=10)\n",
        "# knn2.fit(train_X, train_y)\n",
        "# run_and_plot(knn2, test_X, test_y, '10NN')\n",
        "\n",
        "\n",
        "# rg0 = Ridge(alpha=0.01)\n",
        "# rg0.fit(train_X, train_y)\n",
        "# run_and_plot(rg0, test_X, test_y, 'ridge-0.01')\n",
        "\n",
        "# rg1 = Ridge(alpha=1.1)\n",
        "# rg1.fit(train_X, train_y)\n",
        "# run_and_plot(rg1, test_X, test_y, 'ridge-1.1')\n",
        "\n",
        "# rg2 = Ridge(alpha=100.1)\n",
        "# rg2.fit(train_X, train_y)\n",
        "# run_and_plot(rg2, test_X, test_y, 'ridge-100.1')\n",
        "\n",
        "\n",
        "# rf1 = RandomForestRegressor(n_estimators=100, max_depth=1)\n",
        "# rf1.fit(train_X, train_y)\n",
        "# run_and_plot(rf1, test_X, test_y, 'rf-d1')\n",
        "\n",
        "# rf2 = RandomForestRegressor(n_estimators=100, max_depth=5)\n",
        "# rf2.fit(train_X, train_y)\n",
        "# run_and_plot(rf2, test_X, test_y, 'rf-d5')\n",
        "\n",
        "# rf3 = RandomForestRegressor(n_estimators=100, max_depth=8)\n",
        "# rf3.fit(train_X, train_y)\n",
        "# run_and_plot(rf3, test_X, test_y, 'rf-d8')\n",
        "\n",
        "\n",
        "# gbm1 = lgb.LGBMRegressor(boosting_type='gbdt', learning_rate=0.05, max_depth=2, n_estimators=200, nthread=-1, objective='regression')    \n",
        "# gbm1.fit(train_X, train_y)\n",
        "# run_and_plot(gbm1, test_X, test_y, 'gbm-d2')\n",
        "\n",
        "# gbm2 = lgb.LGBMRegressor(boosting_type='gbdt', learning_rate=0.05, max_depth=5, n_estimators=200, nthread=-1, objective='regression')    \n",
        "# gbm2.fit(train_X, train_y)\n",
        "# run_and_plot(gbm2, test_X, test_y, 'gbm-d5')"
      ],
      "execution_count": 0,
      "outputs": []
    },
    {
      "cell_type": "code",
      "metadata": {
        "id": "rakdTdyBfMks",
        "colab_type": "code",
        "colab": {}
      },
      "source": [
        ""
      ],
      "execution_count": 0,
      "outputs": []
    },
    {
      "cell_type": "code",
      "metadata": {
        "id": "sA9_O6QpfMk4",
        "colab_type": "code",
        "colab": {}
      },
      "source": [
        "3NN AUC-ROC  = 0.6499584884107964\n",
        "10NN AUC-ROC  = 0.7143468402021302\n",
        "ridge-0.01 AUC-ROC  = 0.7306063339687726\n",
        "ridge-1.1 AUC-ROC  = 0.7281704830852095\n",
        "ridge-100.1 AUC-ROC  = 0.7138504032014039\n",
        "rf-d1 AUC-ROC  = 0.5679338575708062\n",
        "rf-d5 AUC-ROC  = 0.7601675025720164\n",
        "rf-d8 AUC-ROC  = 0.7570234015674171\n",
        "gbm-d2 AUC-ROC  = 0.7631314678649238\n",
        "gbm-d5 AUC-ROC  = 0.7579671046659404\n"
      ],
      "execution_count": 0,
      "outputs": []
    },
    {
      "cell_type": "code",
      "metadata": {
        "id": "1eAbhi5IfMlX",
        "colab_type": "code",
        "colab": {}
      },
      "source": [
        "models = [knn1, knn2,rg1, rg2, rf1, rf2,rf3, gbm1, gbm2] # , \n",
        "ens_model = Ridge()\n",
        "s1 = Stacking(models, ens_model)\n",
        "s1.fit(train_X, train_y)\n",
        "run_and_plot(s1, test_X, test_y, '1-stacking')\n",
        "\n",
        "\n",
        "s2 = Stacking(models, ens_model)\n",
        "s2.fit(train_X, train_y, p=0.3)\n",
        "run_and_plot(s1, test_X, test_y, '2-stacking')\n",
        "\n"
      ],
      "execution_count": 0,
      "outputs": []
    },
    {
      "cell_type": "code",
      "metadata": {
        "id": "sSz7rhCZfMl2",
        "colab_type": "code",
        "colab": {}
      },
      "source": [
        ""
      ],
      "execution_count": 0,
      "outputs": []
    },
    {
      "cell_type": "code",
      "metadata": {
        "id": "4l8EqWaofMmS",
        "colab_type": "code",
        "colab": {}
      },
      "source": [
        "from sklearn.model_selection import KFold # cross_validation\n",
        "from sklearn.ensemble import RandomForestClassifier\n",
        "from sklearn.model_selection import cross_val_score\n",
        "from time import time\n",
        "\n",
        "tm = time()\n",
        "\n",
        "cv = KFold(n_splits=5, shuffle=True, random_state=1) # как тестировать\n",
        "\n",
        "rf = RandomForestClassifier(n_estimators=10, max_features=5, n_jobs=-1, random_state=1) # алгоритм\n",
        "\n",
        "tmp = cross_val_score(rf, X, y, scoring='roc_auc', cv=cv) # AUC ROC!!!\n",
        "\n",
        "print (tmp)\n",
        "print (u' = %s,  = %s,  = %s' % (mean(tmp), std(tmp), time() - tm))\n",
        "\n",
        "plt.figure(figsize=(12,4))\n",
        "plt.bar(np.arange(len(tmp)), tmp, color='#000099')\n",
        "plt.ylim([min(tmp)-0.001, max(tmp) + 0.001])\n"
      ],
      "execution_count": 0,
      "outputs": []
    },
    {
      "cell_type": "code",
      "metadata": {
        "id": "kFwOjHVSfMm3",
        "colab_type": "code",
        "colab": {}
      },
      "source": [
        "from sklearn.model_selection import validation_curve\n",
        "from sklearn.model_selection import ShuffleSplit\n",
        "from sklearn.ensemble import RandomForestClassifier\n",
        "from sklearn.ensemble import GradientBoostingClassifier\n",
        "from time import time\n",
        "\n",
        "tm = time()\n",
        "\n",
        "cv = ShuffleSplit(n_splits=5, test_size=0.75, train_size=None, random_state=1)\n",
        "\n",
        "\n",
        "# rf = RandomForestClassifier(n_estimators=50, criterion='gini', max_depth=None, min_samples_split=2,\n",
        "#                        min_samples_leaf=1, min_weight_fraction_leaf=0.0, max_features=5,\n",
        "#                        max_leaf_nodes=None, min_impurity_decrease=1e-07, bootstrap=True, oob_score=False,\n",
        "#                        n_jobs=-1, random_state=None, verbose=0, warm_start=False, class_weight=None)\n",
        "\n",
        "\n",
        "gbm = GradientBoostingClassifier(loss='deviance', learning_rate=0.1, n_estimators=100,\n",
        "                                 subsample=1.0, criterion='friedman_mse', min_samples_split=2,\n",
        "                                 min_samples_leaf=1, min_weight_fraction_leaf=0.0, max_depth=4,\n",
        "                                 min_impurity_decrease=1e-07, init=None, random_state=None,\n",
        "                                 max_features=None, verbose=0, max_leaf_nodes=None,\n",
        "                                 warm_start=False, presort='auto')\n",
        "\n",
        "param_name = \"n_estimators\"\n",
        "\n",
        "\n",
        "#pars = [1, 5, 10, 15, 20, 25, 30] # d=3 0.2 - 0.872\n",
        "# pars = [1, 2, 3, 4, 5, 6, 7, 8, 9, 10, 11]\n",
        "#pars = [10, 20, 30, 40, 50, 60, 70, 80, 90, 100]\n",
        "pars = [1, 5, 10, 15, 20, 25, 30, 35, 40, 45, 50]\n",
        "\n",
        "train_errors, test_errors = validation_curve(gbm, X, y, param_name=param_name,\n",
        "                                             param_range=pars, cv=cv.split(X), scoring='roc_auc', n_jobs=-1)\n",
        "\n",
        "print ('time = ' + str(time() - tm))\n",
        "\n",
        "figsize(12, 5)\n",
        "\n",
        "plt.plot(pars, test_errors.mean(axis=1), label=\"cv\", lw=2)\n",
        "\n",
        "plt.fill_between(pars, test_errors.min(axis=1),\n",
        "                 test_errors.max(axis=1), alpha=0.2,\n",
        "                 color=\"darkorange\", lw=2)\n",
        "\n",
        "plt.fill_between(pars, test_errors.mean(axis=1) - test_errors.std(axis=1),\n",
        "                 test_errors.mean(axis=1) + test_errors.std(axis=1), alpha=0.1,\n",
        "                 color=\"darkblue\", lw=1)\n",
        "\n",
        "plt.legend(loc=\"best\")\n",
        "# plt.ylim([0.82, 0.88]) # 1.01\n",
        "plt.ylabel('ROC AUC')\n",
        "plt.xlabel(param_name)\n"
      ],
      "execution_count": 0,
      "outputs": []
    },
    {
      "cell_type": "code",
      "metadata": {
        "id": "YD_rlGKRfMnW",
        "colab_type": "code",
        "colab": {}
      },
      "source": [
        ""
      ],
      "execution_count": 0,
      "outputs": []
    }
  ]
}